{
 "cells": [
  {
   "cell_type": "markdown",
   "metadata": {},
   "source": [
    "## JP-Monday server readme\n",
    "\n",
    "Welcome to this notebook\n",
    "\n",
    "All changes here are automatically saved to the https://github.com/OpenSecuritySummit/jp-monday"
   ]
  },
  {
   "cell_type": "markdown",
   "metadata": {},
   "source": [
    "This document captures the notes from the Monday sessions at OSS\n"
   ]
  }
 ],
 "metadata": {
  "kernelspec": {
   "display_name": "Python 3",
   "language": "python",
   "name": "python3"
  },
  "language_info": {
   "codemirror_mode": {
    "name": "ipython",
    "version": 3
   },
   "file_extension": ".py",
   "mimetype": "text/x-python",
   "name": "python",
   "nbconvert_exporter": "python",
   "pygments_lexer": "ipython3",
   "version": "3.7.3"
  }
 },
 "nbformat": 4,
 "nbformat_minor": 2
}
