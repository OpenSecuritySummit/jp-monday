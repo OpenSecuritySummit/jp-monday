{
 "cells": [
  {
   "cell_type": "markdown",
   "metadata": {},
   "source": [
    "## Jira tests\n",
    "\n",
    "See how to connect this instance to the test server https://ubuntu-policy.atlassian.net"
   ]
  },
  {
   "cell_type": "code",
   "execution_count": 1,
   "metadata": {},
   "outputs": [],
   "source": [
    "from osbot_jira.api.jira_server.API_Jira_Rest import API_Jira_Rest\n",
    "from osbot_jira.api.jira_server.API_Jira import API_Jira\n",
    "\n",
    "jira_rest = API_Jira_Rest()\n",
    "api_jira = API_Jira()"
   ]
  },
  {
   "cell_type": "code",
   "execution_count": 3,
   "metadata": {},
   "outputs": [],
   "source": [
    "from jira import JIRA\n",
    "api_jira._jira = JIRA(server='https://ubuntu-policy.atlassian.net/')"
   ]
  },
  {
   "cell_type": "code",
   "execution_count": 12,
   "metadata": {},
   "outputs": [
    {
     "data": {
      "text/plain": [
       "{'Assignee': None,\n",
       " 'Brands': [],\n",
       " 'Components': [],\n",
       " 'Created': '2019-10-13T09:28:52.131+0100',\n",
       " 'Creator': 'dinis.cruz',\n",
       " 'Description': None,\n",
       " 'Email': None,\n",
       " 'Epic Link': None,\n",
       " 'GDPR Article': None,\n",
       " 'Image Url': None,\n",
       " 'Issue Type': 'Wardley Map',\n",
       " 'Issue Links': {'MAP-3': [{'Link Type': 'needs',\n",
       "    'Direction': 'Outward',\n",
       "    'Issue Type': 'Wardley Map',\n",
       "    'Id': '10088',\n",
       "    'Key': 'MAP-3',\n",
       "    'Status': 'Product',\n",
       "    'Summary': 'Tea'}],\n",
       "  'MAP-2': [{'Link Type': 'needs',\n",
       "    'Direction': 'Outward',\n",
       "    'Issue Type': 'Wardley Map',\n",
       "    'Id': '10087',\n",
       "    'Key': 'MAP-2',\n",
       "    'Status': 'Commodity',\n",
       "    'Summary': 'Cup'}],\n",
       "  'MAP-4': [{'Link Type': 'needs',\n",
       "    'Direction': 'Outward',\n",
       "    'Issue Type': 'Wardley Map',\n",
       "    'Id': '10089',\n",
       "    'Key': 'MAP-4',\n",
       "    'Status': 'Commodity',\n",
       "    'Summary': 'Hot Water'}],\n",
       "  'MAP-8': [{'Direction': 'Inward',\n",
       "    'Link Type': 'is needed by',\n",
       "    'Issue Type': 'Wardley Map',\n",
       "    'Id': '10093',\n",
       "    'Key': 'MAP-8',\n",
       "    'Status': 'Product',\n",
       "    'Summary': 'Public'}]},\n",
       " 'ISO27001 Standard': None,\n",
       " 'Key': 'MAP-1',\n",
       " 'Labels': [],\n",
       " 'Latest_Information': None,\n",
       " 'Likelihood': None,\n",
       " 'Parent': None,\n",
       " 'Priority': 'Medium',\n",
       " 'Project': 'Wardley Maps',\n",
       " 'Slack ID': None,\n",
       " 'Summary': 'Cup of Tea',\n",
       " 'Status': 'Product',\n",
       " 'Rating': None,\n",
       " 'Reporter': 'dinis.cruz',\n",
       " 'Risk Owner': None,\n",
       " 'Updated': '2019-10-13T10:04:36.687+0100',\n",
       " 'Impacts': None,\n",
       " 'VULN Priority': None}"
      ]
     },
     "execution_count": 12,
     "metadata": {},
     "output_type": "execute_result"
    }
   ],
   "source": [
    "issue = api_jira.issue('Map-1')\n",
    "issue"
   ]
  },
  {
   "cell_type": "code",
   "execution_count": 7,
   "metadata": {},
   "outputs": [
    {
     "ename": "NameError",
     "evalue": "name 'jira' is not defined",
     "output_type": "error",
     "traceback": [
      "\u001b[0;31m---------------------------------------------------------------------------\u001b[0m",
      "\u001b[0;31mNameError\u001b[0m                                 Traceback (most recent call last)",
      "\u001b[0;32m<ipython-input-7-2615c9bd3691>\u001b[0m in \u001b[0;36m<module>\u001b[0;34m\u001b[0m\n\u001b[0;32m----> 1\u001b[0;31m \u001b[0mjira\u001b[0m\u001b[0;34m.\u001b[0m\u001b[0missue\u001b[0m\u001b[0;34m(\u001b[0m\u001b[0mid\u001b[0m\u001b[0;34m=\u001b[0m\u001b[0;34m'Policy-1'\u001b[0m\u001b[0;34m,\u001b[0m \u001b[0mfields\u001b[0m\u001b[0;34m=\u001b[0m\u001b[0;34m'*'\u001b[0m\u001b[0;34m)\u001b[0m\u001b[0;34m\u001b[0m\u001b[0;34m\u001b[0m\u001b[0m\n\u001b[0m",
      "\u001b[0;31mNameError\u001b[0m: name 'jira' is not defined"
     ]
    }
   ],
   "source": [
    "form API_Issues"
   ]
  },
  {
   "cell_type": "code",
   "execution_count": 9,
   "metadata": {},
   "outputs": [
    {
     "name": "stdout",
     "output_type": "stream",
     "text": [
      "--2019-09-05 17:04:16--  https://https//ubuntu-policy.atlassian.net/\n",
      "Resolving https (https)... failed: Name or service not known.\n",
      "wget: unable to resolve host address ‘https’\n"
     ]
    }
   ],
   "source": [
    "!wget https://https://ubuntu-policy.atlassian.net/"
   ]
  },
  {
   "cell_type": "code",
   "execution_count": null,
   "metadata": {},
   "outputs": [],
   "source": []
  }
 ],
 "metadata": {
  "kernelspec": {
   "display_name": "Python 3",
   "language": "python",
   "name": "python3"
  },
  "language_info": {
   "codemirror_mode": {
    "name": "ipython",
    "version": 3
   },
   "file_extension": ".py",
   "mimetype": "text/x-python",
   "name": "python",
   "nbconvert_exporter": "python",
   "pygments_lexer": "ipython3",
   "version": "3.7.3"
  }
 },
 "nbformat": 4,
 "nbformat_minor": 2
}
