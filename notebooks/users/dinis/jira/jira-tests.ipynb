{
 "cells": [
  {
   "cell_type": "markdown",
   "metadata": {},
   "source": [
    "## Jira tests\n",
    "\n",
    "See how to connect this instance to the test server https://ubuntu-policy.atlassian.net"
   ]
  },
  {
   "cell_type": "code",
   "execution_count": 22,
   "metadata": {},
   "outputs": [],
   "source": [
    "from osbot_jira.api.jira_server.API_Jira_Rest import API_Jira_Rest\n",
    "from osbot_jira.api.jira_server.API_Jira import API_Jira\n",
    "\n",
    "jira_rest = API_Jira_Rest()\n",
    "api_jira = API_Jira()"
   ]
  },
  {
   "cell_type": "code",
   "execution_count": 23,
   "metadata": {},
   "outputs": [],
   "source": [
    "api_jira._jira = JIRA(server='https://ubuntu-policy.atlassian.net/')"
   ]
  },
  {
   "cell_type": "code",
   "execution_count": 26,
   "metadata": {},
   "outputs": [
    {
     "data": {
      "text/plain": [
       "{'Assignee': None,\n",
       " 'Brands': [],\n",
       " 'Components': [],\n",
       " 'Created': '2019-09-04T11:26:12.428+0100',\n",
       " 'Creator': 'admin',\n",
       " 'Description': 'This document explains the information security requirements for all employees. The management team has committed to these policies to protect information utilised by \\\\{COMPANY} in attaining its business goals. Confidentiality, integrity, and availability are the three primary security objectives regarding IT security. These objectives describe the paramount goals for ensuring the protection of information and resources from unauthorised access, use, disclosure, disruption, modification, or destruction. \\n\\n* *Confidentiality*: preserving authorised restrictions on information access and disclosure, including means for protecting personal privacy and proprietary information. \\n* *Integrity*: guarding against improper information modification or destruction, including ensuring information non-repudiation and authenticity. \\n* *Availability*: ensuring timely and reliable access to and use of information.\\n\\n',\n",
       " 'Email': None,\n",
       " 'Epic Link': None,\n",
       " 'GDPR Article': None,\n",
       " 'Image Url': None,\n",
       " 'Issue Type': 'Policy',\n",
       " 'Issue Links': {'POLICY-2': [{'Link Type': 'has POLICY',\n",
       "    'Direction': 'Outward',\n",
       "    'Issue Type': 'Policy Set',\n",
       "    'Id': '10060',\n",
       "    'Key': 'POLICY-2',\n",
       "    'Status': 'OK',\n",
       "    'Summary': '3. User Authentication '}],\n",
       "  'POLICY-11': [{'Link Type': 'has POLICY',\n",
       "    'Direction': 'Outward',\n",
       "    'Issue Type': 'Policy Set',\n",
       "    'Id': '10061',\n",
       "    'Key': 'POLICY-11',\n",
       "    'Status': 'OK',\n",
       "    'Summary': '4. Data Retention and Disposal Policy'}],\n",
       "  'POLICY-14': [{'Link Type': 'has POLICY',\n",
       "    'Direction': 'Outward',\n",
       "    'Issue Type': 'Policy Set',\n",
       "    'Id': '10062',\n",
       "    'Key': 'POLICY-14',\n",
       "    'Status': 'OK',\n",
       "    'Summary': '5. Firewall and router Security Admin Policy'}],\n",
       "  'POLICY-18': [{'Link Type': 'has POLICY',\n",
       "    'Direction': 'Outward',\n",
       "    'Issue Type': 'Policy Set',\n",
       "    'Id': '10073',\n",
       "    'Key': 'POLICY-18',\n",
       "    'Status': 'OK',\n",
       "    'Summary': '6. System Configuration Policy'}],\n",
       "  'POLICY-21': [{'Link Type': 'has POLICY',\n",
       "    'Direction': 'Outward',\n",
       "    'Issue Type': 'Policy Set',\n",
       "    'Id': '10078',\n",
       "    'Key': 'POLICY-21',\n",
       "    'Status': 'OK',\n",
       "    'Summary': '7. Anti-Virus Policy'}],\n",
       "  'POLICY-8': [{'Direction': 'Inward',\n",
       "    'Link Type': 'is used by',\n",
       "    'Issue Type': 'Policy Review',\n",
       "    'Id': '10086',\n",
       "    'Key': 'POLICY-8',\n",
       "    'Status': 'Done',\n",
       "    'Summary': 'Policy review - Ubuntu Policy on Docker - Sep 2019'}]},\n",
       " 'ISO27001 Standard': None,\n",
       " 'Key': 'POLICY-1',\n",
       " 'Labels': [],\n",
       " 'Latest_Information': None,\n",
       " 'Likelihood': None,\n",
       " 'Parent': None,\n",
       " 'Priority': 'Medium',\n",
       " 'Project': 'Policy',\n",
       " 'Slack ID': None,\n",
       " 'Summary': 'Ubuntu Policy',\n",
       " 'Status': 'OK',\n",
       " 'Rating': None,\n",
       " 'Reporter': 'admin',\n",
       " 'Risk Owner': None,\n",
       " 'Updated': '2019-09-05T16:00:23.075+0100',\n",
       " 'Impacts': None,\n",
       " 'VULN Priority': None}"
      ]
     },
     "execution_count": 26,
     "metadata": {},
     "output_type": "execute_result"
    }
   ],
   "source": []
  },
  {
   "cell_type": "code",
   "execution_count": 17,
   "metadata": {},
   "outputs": [
    {
     "data": {
      "text/plain": [
       "<JIRA Issue: key='POLICY-1', id='10002'>"
      ]
     },
     "execution_count": 17,
     "metadata": {},
     "output_type": "execute_result"
    }
   ],
   "source": [
    "jira.issue(id='Policy-1', fields='*')"
   ]
  },
  {
   "cell_type": "code",
   "execution_count": 9,
   "metadata": {},
   "outputs": [
    {
     "name": "stdout",
     "output_type": "stream",
     "text": [
      "--2019-09-05 17:04:16--  https://https//ubuntu-policy.atlassian.net/\n",
      "Resolving https (https)... failed: Name or service not known.\n",
      "wget: unable to resolve host address ‘https’\n"
     ]
    }
   ],
   "source": [
    "!wget https://https://ubuntu-policy.atlassian.net/"
   ]
  },
  {
   "cell_type": "code",
   "execution_count": null,
   "metadata": {},
   "outputs": [],
   "source": []
  }
 ],
 "metadata": {
  "kernelspec": {
   "display_name": "Python 3",
   "language": "python",
   "name": "python3"
  },
  "language_info": {
   "codemirror_mode": {
    "name": "ipython",
    "version": 3
   },
   "file_extension": ".py",
   "mimetype": "text/x-python",
   "name": "python",
   "nbconvert_exporter": "python",
   "pygments_lexer": "ipython3",
   "version": "3.7.3"
  }
 },
 "nbformat": 4,
 "nbformat_minor": 2
}
