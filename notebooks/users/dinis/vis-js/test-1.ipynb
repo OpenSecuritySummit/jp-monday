{
 "cells": [
  {
   "cell_type": "code",
   "execution_count": null,
   "metadata": {},
   "outputs": [],
   "source": [
    "#%autoreload\n",
    "\n",
    "import sys; sys.path.append('..')\n",
    "from osbot_jupyter.api_js.Jp_Vis_Js import Jp_Vis_Js\n",
    "from pbx_gs_python_utils.utils.Files import Files\n",
    "from IPython.display import display, HTML, Javascript\n",
    "vis = Jp_Vis_Js()\n",
    "vis.div_id = 'mynetwork'\n",
    "api_vis_js = Files.contents('API-Vis_JS.js')\n",
    "\n",
    "html = \"\"\"\n",
    "<style>\n",
    "    #mynetwork {\n",
    "      width: 880px;\n",
    "      height: 600px;\n",
    "\n",
    "      border:  1px solid lightgray;\n",
    "    }\n",
    "</style>\n",
    "<div id=\"mynetwork\"></div>\n",
    "\"\"\"\n",
    "display(HTML(html))\n",
    "vis.js_vis_invoke(api_vis_js)\n",
    "\n",
    "code = \"\"\"\n",
    "window.maps = new window.Api_VisJs()\n",
    "map.hide_anchor_edges = false\n",
    "window.maps.setup() \"\"\"\n",
    "vis.js_vis_invoke(code)"
   ]
  },
  {
   "cell_type": "code",
   "execution_count": null,
   "metadata": {},
   "outputs": [],
   "source": [
    "js_code = \"\"\"\n",
    "var map = new window.Api_VisJs()\n",
    "map.hide_anchor_edges = false\n",
    "map.setup()\n",
    "\n",
    "//map.add_component('Business-a' , 1, 1)\n",
    "//map.add_component('Business-b' , 1, 1);\n",
    "//map.connection_arrows = 'to';\n",
    "map.add_connection('Business-a', 'Business-b');\n",
    "\n",
    "\"\"\"\n",
    "display(Javascript(js_code))"
   ]
  },
  {
   "cell_type": "code",
   "execution_count": null,
   "metadata": {},
   "outputs": [],
   "source": [
    "%%javascript\n",
    "window.maps.add_component('Business-21' , 1, 1)\n",
    "window.maps.add_component('Business-2' , 1, 1)\n",
    "maps.connection_arrows = 'to'\n",
    "window.maps.add_connection('Business-21', 'Business-2')\n"
   ]
  }
 ],
 "metadata": {
  "hide_input": false,
  "kernelspec": {
   "display_name": "Python 3",
   "language": "python",
   "name": "python3"
  },
  "language_info": {
   "codemirror_mode": {
    "name": "ipython",
    "version": 3
   },
   "file_extension": ".py",
   "mimetype": "text/x-python",
   "name": "python",
   "nbconvert_exporter": "python",
   "pygments_lexer": "ipython3",
   "version": "3.7.3"
  },
  "varInspector": {
   "cols": {
    "lenName": 16,
    "lenType": 16,
    "lenVar": 40
   },
   "kernels_config": {
    "python": {
     "delete_cmd_postfix": "",
     "delete_cmd_prefix": "del ",
     "library": "var_list.py",
     "varRefreshCmd": "print(var_dic_list())"
    },
    "r": {
     "delete_cmd_postfix": ") ",
     "delete_cmd_prefix": "rm(",
     "library": "var_list.r",
     "varRefreshCmd": "cat(var_dic_list()) "
    }
   },
   "oldHeight": 450,
   "position": {
    "height": "40px",
    "left": "1198px",
    "right": "20px",
    "top": "17px",
    "width": "250px"
   },
   "types_to_exclude": [
    "module",
    "function",
    "builtin_function_or_method",
    "instance",
    "_Feature"
   ],
   "varInspector_section_display": "none",
   "window_display": false
  }
 },
 "nbformat": 4,
 "nbformat_minor": 2
}
