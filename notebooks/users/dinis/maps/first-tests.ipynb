{
 "cells": [
  {
   "cell_type": "markdown",
   "metadata": {},
   "source": [
    "## First tests in getting data from Jira"
   ]
  },
  {
   "cell_type": "code",
   "execution_count": 5,
   "metadata": {},
   "outputs": [],
   "source": [
    "from jira import JIRA\n",
    "from osbot_jira.api.jira_server.API_Jira import API_Jira\n",
    "\n",
    "api_jira = API_Jira()\n",
    "api_jira._jira = JIRA(server='https://ubuntu-policy.atlassian.net/')\n",
    "\n",
    "from IPython.display        import display_html, HTML, Javascript,display\n",
    "from osbot_aws.apis.Lambda import Lambda\n",
    "def maps_create(code):\n",
    "    aws_lambda = Lambda('osbot_browser.lambdas.lambda_browser')\n",
    "    params = [\"maps\", \"exec_js\"]\n",
    "    params.extend(code.split(' '))\n",
    "\n",
    "    payload = {\"params\": params,\n",
    "               'data': {}}\n",
    "    png_data = aws_lambda.invoke(payload)\n",
    "    show_png(png_data)\n",
    "\n",
    "#maps_create(map)\n",
    "def show_png(png_data,height=200):\n",
    "    html = '<img style=\"width:100%;height:800px;border:1px solid black\" align=\"left\" src=\"data:image/png;base64,{1}\"/>'.format(height,png_data)\n",
    "    display_html(html, raw=True)    \n",
    "    "
   ]
  },
  {
   "cell_type": "code",
   "execution_count": 3,
   "metadata": {},
   "outputs": [],
   "source": [
    "issue = api_jira.issue('Map-1')\n"
   ]
  },
  {
   "cell_type": "code",
   "execution_count": 6,
   "metadata": {},
   "outputs": [
    {
     "ename": "SyntaxError",
     "evalue": "EOF while scanning triple-quoted string literal (<ipython-input-6-d2442e548fa6>, line 4)",
     "output_type": "error",
     "traceback": [
      "\u001b[0;36m  File \u001b[0;32m\"<ipython-input-6-d2442e548fa6>\"\u001b[0;36m, line \u001b[0;32m4\u001b[0m\n\u001b[0;31m    add(\"cast a spell\", 1, 2)\u001b[0m\n\u001b[0m                             \n^\u001b[0m\n\u001b[0;31mSyntaxError\u001b[0m\u001b[0;31m:\u001b[0m EOF while scanning triple-quoted string literal\n"
     ]
    }
   ],
   "source": [
    "map_code = \"\"\"\n",
    "add(\"wizard in action\", 1, 1)\n",
    "\n",
    "add(\"cast a spell\", 1, 2) "
   ]
  },
  {
   "cell_type": "code",
   "execution_count": null,
   "metadata": {},
   "outputs": [],
   "source": []
  }
 ],
 "metadata": {
  "kernelspec": {
   "display_name": "Python 3",
   "language": "python",
   "name": "python3"
  },
  "language_info": {
   "codemirror_mode": {
    "name": "ipython",
    "version": 3
   },
   "file_extension": ".py",
   "mimetype": "text/x-python",
   "name": "python",
   "nbconvert_exporter": "python",
   "pygments_lexer": "ipython3",
   "version": "3.7.3"
  }
 },
 "nbformat": 4,
 "nbformat_minor": 2
}
