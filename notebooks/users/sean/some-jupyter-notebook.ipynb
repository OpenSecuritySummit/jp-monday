{
 "cells": [
  {
   "cell_type": "markdown",
   "metadata": {},
   "source": [
    "# some jupyter notebook\n",
    "\n",
    "## subtitle\n",
    "\n",
    "here's what we're gonna do\n",
    "\n",
    "- hi\n",
    "- yeah"
   ]
  },
  {
   "cell_type": "code",
   "execution_count": 3,
   "metadata": {},
   "outputs": [
    {
     "name": "stdout",
     "output_type": "stream",
     "text": [
      "hi\n"
     ]
    }
   ],
   "source": [
    "print ('hi')"
   ]
  },
  {
   "cell_type": "code",
   "execution_count": 4,
   "metadata": {},
   "outputs": [
    {
     "data": {
      "text/plain": [
       "['root']"
      ]
     },
     "execution_count": 4,
     "metadata": {},
     "output_type": "execute_result"
    }
   ],
   "source": [
    "system('whoami')"
   ]
  },
  {
   "cell_type": "code",
   "execution_count": null,
   "metadata": {},
   "outputs": [],
   "source": []
  },
  {
   "cell_type": "code",
   "execution_count": 5,
   "metadata": {},
   "outputs": [
    {
     "name": "stdout",
     "output_type": "stream",
     "text": [
      "Filesystem                                                                                        Size  Used Avail Use% Mounted on\r\n",
      "/dev/mapper/docker-202:1-394331-1bfb33fb72736f68e4b55fe549574a69ecdf749ab4b82e5184c916eef7ac9ea0   50G  1.2G   46G   3% /\r\n",
      "tmpfs                                                                                              64M     0   64M   0% /dev\r\n",
      "tmpfs                                                                                             1.9G     0  1.9G   0% /sys/fs/cgroup\r\n",
      "/dev/xvda1                                                                                         63G  1.7G   62G   3% /etc/hosts\r\n",
      "shm                                                                                               512M     0  512M   0% /dev/shm\r\n",
      "tmpfs                                                                                             1.9G     0  1.9G   0% /proc/acpi\r\n",
      "tmpfs                                                                                             1.9G     0  1.9G   0% /proc/scsi\r\n",
      "tmpfs                                                                                             1.9G     0  1.9G   0% /sys/firmware\r\n"
     ]
    }
   ],
   "source": [
    "!df -h"
   ]
  },
  {
   "cell_type": "code",
   "execution_count": 6,
   "metadata": {},
   "outputs": [
    {
     "name": "stdout",
     "output_type": "stream",
     "text": [
      "Hit:1 http://security.ubuntu.com/ubuntu bionic-security InRelease\n",
      "Hit:2 http://archive.ubuntu.com/ubuntu bionic InRelease\n",
      "Get:3 http://archive.ubuntu.com/ubuntu bionic-updates InRelease [88.7 kB]\n",
      "Get:4 http://archive.ubuntu.com/ubuntu bionic-backports InRelease [74.6 kB]\n",
      "Get:5 http://archive.ubuntu.com/ubuntu bionic-updates/main amd64 Packages [808 kB]\n",
      "Get:6 http://archive.ubuntu.com/ubuntu bionic-backports/universe amd64 Packages [3,902 B]\n",
      "Fetched 975 kB in 0s (2,382 kB/s)\n",
      "Reading package lists... Done\n"
     ]
    }
   ],
   "source": [
    "!apt-get update\n"
   ]
  },
  {
   "cell_type": "code",
   "execution_count": 7,
   "metadata": {},
   "outputs": [
    {
     "name": "stdout",
     "output_type": "stream",
     "text": [
      "Reading package lists... Done\n",
      "Building dependency tree       \n",
      "Reading state information... Done\n",
      "The following additional packages will be installed:\n",
      "  libglib2.0-0 libglib2.0-data libicu60 libxml2 shared-mime-info xdg-user-dirs\n",
      "The following NEW packages will be installed:\n",
      "  docker libglib2.0-0 libglib2.0-data libicu60 libxml2 shared-mime-info\n",
      "  xdg-user-dirs\n",
      "0 upgraded, 7 newly installed, 0 to remove and 35 not upgraded.\n",
      "Need to get 10.4 MB of archives.\n",
      "After this operation, 40.9 MB of additional disk space will be used.\n",
      "Do you want to continue? [Y/n] ^C\n"
     ]
    }
   ],
   "source": [
    "!apt-get install docker\n"
   ]
  },
  {
   "cell_type": "code",
   "execution_count": 8,
   "metadata": {},
   "outputs": [
    {
     "ename": "NameError",
     "evalue": "name 'y' is not defined",
     "output_type": "error",
     "traceback": [
      "\u001b[0;31m---------------------------------------------------------------------------\u001b[0m",
      "\u001b[0;31mNameError\u001b[0m                                 Traceback (most recent call last)",
      "\u001b[0;32m<ipython-input-8-9063a9f0e032>\u001b[0m in \u001b[0;36m<module>\u001b[0;34m\u001b[0m\n\u001b[0;32m----> 1\u001b[0;31m \u001b[0my\u001b[0m\u001b[0;34m\u001b[0m\u001b[0;34m\u001b[0m\u001b[0m\n\u001b[0m",
      "\u001b[0;31mNameError\u001b[0m: name 'y' is not defined"
     ]
    }
   ],
   "source": [
    "y\n"
   ]
  },
  {
   "cell_type": "code",
   "execution_count": 9,
   "metadata": {},
   "outputs": [
    {
     "name": "stdout",
     "output_type": "stream",
     "text": [
      "Reading package lists... Done\n",
      "Building dependency tree       \n",
      "Reading state information... Done\n",
      "The following additional packages will be installed:\n",
      "  libglib2.0-0 libglib2.0-data libicu60 libxml2 shared-mime-info xdg-user-dirs\n",
      "The following NEW packages will be installed:\n",
      "  docker libglib2.0-0 libglib2.0-data libicu60 libxml2 shared-mime-info\n",
      "  xdg-user-dirs\n",
      "0 upgraded, 7 newly installed, 0 to remove and 35 not upgraded.\n",
      "Need to get 10.4 MB of archives.\n",
      "After this operation, 40.9 MB of additional disk space will be used.\n",
      "Get:1 http://archive.ubuntu.com/ubuntu bionic-updates/main amd64 libglib2.0-0 amd64 2.56.4-0ubuntu0.18.04.2 [1,169 kB]\n",
      "Get:2 http://archive.ubuntu.com/ubuntu bionic-updates/main amd64 libglib2.0-data all 2.56.4-0ubuntu0.18.04.2 [4,720 B]\n",
      "Get:3 http://archive.ubuntu.com/ubuntu bionic/main amd64 libicu60 amd64 60.2-3ubuntu3 [8,054 kB]\n",
      "Get:4 http://archive.ubuntu.com/ubuntu bionic-updates/main amd64 libxml2 amd64 2.9.4+dfsg1-6.1ubuntu1.2 [663 kB]\n",
      "Get:5 http://archive.ubuntu.com/ubuntu bionic/main amd64 shared-mime-info amd64 1.9-2 [426 kB]\n",
      "Get:6 http://archive.ubuntu.com/ubuntu bionic/main amd64 xdg-user-dirs amd64 0.17-1ubuntu1 [48.0 kB]\n",
      "Get:7 http://archive.ubuntu.com/ubuntu bionic/universe amd64 docker amd64 1.5-1build1 [12.9 kB]\n",
      "Fetched 10.4 MB in 0s (48.3 MB/s)  \n",
      "debconf: delaying package configuration, since apt-utils is not installed\n",
      "Selecting previously unselected package libglib2.0-0:amd64.\n",
      "(Reading database ... 8503 files and directories currently installed.)\n",
      "Preparing to unpack .../0-libglib2.0-0_2.56.4-0ubuntu0.18.04.2_amd64.deb ...\n",
      "Unpacking libglib2.0-0:amd64 (2.56.4-0ubuntu0.18.04.2) ...\n",
      "Selecting previously unselected package libglib2.0-data.\n",
      "Preparing to unpack .../1-libglib2.0-data_2.56.4-0ubuntu0.18.04.2_all.deb ...\n",
      "Unpacking libglib2.0-data (2.56.4-0ubuntu0.18.04.2) ...\n",
      "Selecting previously unselected package libicu60:amd64.\n",
      "Preparing to unpack .../2-libicu60_60.2-3ubuntu3_amd64.deb ...\n",
      "Unpacking libicu60:amd64 (60.2-3ubuntu3) ...\n",
      "Selecting previously unselected package libxml2:amd64.\n",
      "Preparing to unpack .../3-libxml2_2.9.4+dfsg1-6.1ubuntu1.2_amd64.deb ...\n",
      "Unpacking libxml2:amd64 (2.9.4+dfsg1-6.1ubuntu1.2) ...\n",
      "Selecting previously unselected package shared-mime-info.\n",
      "Preparing to unpack .../4-shared-mime-info_1.9-2_amd64.deb ...\n",
      "Unpacking shared-mime-info (1.9-2) ...\n",
      "Selecting previously unselected package xdg-user-dirs.\n",
      "Preparing to unpack .../5-xdg-user-dirs_0.17-1ubuntu1_amd64.deb ...\n",
      "Unpacking xdg-user-dirs (0.17-1ubuntu1) ...\n",
      "Selecting previously unselected package docker.\n",
      "Preparing to unpack .../6-docker_1.5-1build1_amd64.deb ...\n",
      "Unpacking docker (1.5-1build1) ...\n",
      "Setting up libicu60:amd64 (60.2-3ubuntu3) ...\n",
      "Setting up libglib2.0-0:amd64 (2.56.4-0ubuntu0.18.04.2) ...\n",
      "No schema files found: doing nothing.\n",
      "Setting up libxml2:amd64 (2.9.4+dfsg1-6.1ubuntu1.2) ...\n",
      "Setting up libglib2.0-data (2.56.4-0ubuntu0.18.04.2) ...\n",
      "Processing triggers for libc-bin (2.27-3ubuntu1) ...\n",
      "Setting up shared-mime-info (1.9-2) ...\n",
      "Setting up docker (1.5-1build1) ...\n",
      "Setting up xdg-user-dirs (0.17-1ubuntu1) ...\n"
     ]
    }
   ],
   "source": [
    "!apt-get install -y docker"
   ]
  },
  {
   "cell_type": "code",
   "execution_count": null,
   "metadata": {},
   "outputs": [],
   "source": []
  }
 ],
 "metadata": {
  "kernelspec": {
   "display_name": "Python 3",
   "language": "python",
   "name": "python3"
  },
  "language_info": {
   "codemirror_mode": {
    "name": "ipython",
    "version": 3
   },
   "file_extension": ".py",
   "mimetype": "text/x-python",
   "name": "python",
   "nbconvert_exporter": "python",
   "pygments_lexer": "ipython3",
   "version": "3.7.3"
  }
 },
 "nbformat": 4,
 "nbformat_minor": 2
}
