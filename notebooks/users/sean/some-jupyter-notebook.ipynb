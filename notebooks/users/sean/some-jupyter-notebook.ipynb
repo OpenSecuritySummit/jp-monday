{
 "cells": [
  {
   "cell_type": "markdown",
   "metadata": {},
   "source": [
    "# some jupyter notebook\n",
    "\n",
    "## subtitle\n",
    "\n",
    "here's what we're gonna do\n",
    "\n",
    "- hi\n",
    "- yeah"
   ]
  },
  {
   "cell_type": "code",
   "execution_count": 3,
   "metadata": {},
   "outputs": [
    {
     "name": "stdout",
     "output_type": "stream",
     "text": [
      "hi\n"
     ]
    }
   ],
   "source": [
    "print ('hi')"
   ]
  },
  {
   "cell_type": "code",
   "execution_count": 4,
   "metadata": {},
   "outputs": [
    {
     "data": {
      "text/plain": [
       "['root']"
      ]
     },
     "execution_count": 4,
     "metadata": {},
     "output_type": "execute_result"
    }
   ],
   "source": [
    "system('whoami')"
   ]
  },
  {
   "cell_type": "code",
   "execution_count": null,
   "metadata": {},
   "outputs": [],
   "source": []
  },
  {
   "cell_type": "code",
   "execution_count": 5,
   "metadata": {},
   "outputs": [
    {
     "name": "stdout",
     "output_type": "stream",
     "text": [
      "Filesystem                                                                                        Size  Used Avail Use% Mounted on\r\n",
      "/dev/mapper/docker-202:1-394331-1bfb33fb72736f68e4b55fe549574a69ecdf749ab4b82e5184c916eef7ac9ea0   50G  1.2G   46G   3% /\r\n",
      "tmpfs                                                                                              64M     0   64M   0% /dev\r\n",
      "tmpfs                                                                                             1.9G     0  1.9G   0% /sys/fs/cgroup\r\n",
      "/dev/xvda1                                                                                         63G  1.7G   62G   3% /etc/hosts\r\n",
      "shm                                                                                               512M     0  512M   0% /dev/shm\r\n",
      "tmpfs                                                                                             1.9G     0  1.9G   0% /proc/acpi\r\n",
      "tmpfs                                                                                             1.9G     0  1.9G   0% /proc/scsi\r\n",
      "tmpfs                                                                                             1.9G     0  1.9G   0% /sys/firmware\r\n"
     ]
    }
   ],
   "source": [
    "!df -h"
   ]
  },
  {
   "cell_type": "code",
   "execution_count": null,
   "metadata": {},
   "outputs": [],
   "source": []
  }
 ],
 "metadata": {
  "kernelspec": {
   "display_name": "Python 3",
   "language": "python",
   "name": "python3"
  },
  "language_info": {
   "codemirror_mode": {
    "name": "ipython",
    "version": 3
   },
   "file_extension": ".py",
   "mimetype": "text/x-python",
   "name": "python",
   "nbconvert_exporter": "python",
   "pygments_lexer": "ipython3",
   "version": "3.7.3"
  }
 },
 "nbformat": 4,
 "nbformat_minor": 2
}
