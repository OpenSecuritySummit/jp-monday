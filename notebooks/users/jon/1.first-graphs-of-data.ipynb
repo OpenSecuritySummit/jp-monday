{
 "cells": [
  {
   "cell_type": "markdown",
   "metadata": {},
   "source": [
    "## First Graphs of data"
   ]
  },
  {
   "cell_type": "code",
   "execution_count": 2,
   "metadata": {},
   "outputs": [],
   "source": [
    "# First step is to add the OSBot-GraphDB folder to the current python sys path (so that we can use the APIS from here) \n",
    "import sys\n",
    "sys.path.append('./OSBot-jira/OSBot-GraphDB')\n",
    "import osbot_graphsv"
   ]
  },
  {
   "cell_type": "code",
   "execution_count": 16,
   "metadata": {},
   "outputs": [
    {
     "data": {
      "text/plain": [
       "<osbot_graphsv.api.Graph_SV.Graph_SV at 0x7fafa9e25470>"
      ]
     },
     "execution_count": 16,
     "metadata": {},
     "output_type": "execute_result"
    }
   ],
   "source": [
    "from osbot_graphsv.demo.Demo_Data import Demo_Data # import API\n",
    "demo_data = Demo_Data()                            # class that exposed the graph with demo data\n",
    "graph_sv  = demo_data.graph_sv                     # graph_sv . = main ServerLess Graph object\n",
    "graph_sv"
   ]
  },
  {
   "cell_type": "code",
   "execution_count": 20,
   "metadata": {},
   "outputs": [
    {
     "data": {
      "text/plain": [
       "{'CEO': {'Role-4': {'Summary': 'CEO', 'Key': 'Role-4', 'Issue Type': 'Role'}},\n",
       " 'Lead Engineer': {'Role-5': {'Summary': 'Lead Engineer',\n",
       "   'Key': 'Role-5',\n",
       "   'Issue Type': 'Role'}},\n",
       " 'Engineer': {'Role-2': {'Summary': 'Engineer',\n",
       "   'Key': 'Role-2',\n",
       "   'Issue Type': 'Role'}},\n",
       " 'SVP - Special Projects': {'Role-3': {'Summary': 'SVP - Special Projects',\n",
       "   'Key': 'Role-3',\n",
       "   'Issue Type': 'Role'}},\n",
       " 'Platform Specialist': {'Role-1': {'Summary': 'Platform Specialist',\n",
       "   'Key': 'Role-1',\n",
       "   'Issue Type': 'Role'}}}"
      ]
     },
     "execution_count": 20,
     "metadata": {},
     "output_type": "execute_result"
    }
   ],
   "source": [
    "import pandas as pd\n",
    "issues = graph_sv.issues.roles()\n",
    "#pd.DataFrame(issues)\n",
    "issues"
   ]
  },
  {
   "cell_type": "code",
   "execution_count": 5,
   "metadata": {},
   "outputs": [
    {
     "name": "stdout",
     "output_type": "stream",
     "text": [
      "GraphSV-demo-data  osbot_graphsv  tests\n"
     ]
    }
   ],
   "source": [
    "!ls OSBot-jira/OSBot-GraphDB"
   ]
  },
  {
   "cell_type": "code",
   "execution_count": 8,
   "metadata": {},
   "outputs": [],
   "source": []
  },
  {
   "cell_type": "code",
   "execution_count": null,
   "metadata": {},
   "outputs": [],
   "source": []
  }
 ],
 "metadata": {
  "kernelspec": {
   "display_name": "Python 3",
   "language": "python",
   "name": "python3"
  },
  "language_info": {
   "codemirror_mode": {
    "name": "ipython",
    "version": 3
   },
   "file_extension": ".py",
   "mimetype": "text/x-python",
   "name": "python",
   "nbconvert_exporter": "python",
   "pygments_lexer": "ipython3",
   "version": "3.7.3"
  }
 },
 "nbformat": 4,
 "nbformat_minor": 2
}
