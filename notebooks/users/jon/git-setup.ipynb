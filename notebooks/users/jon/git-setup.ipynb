{
 "cells": [
  {
   "cell_type": "markdown",
   "metadata": {},
   "source": [
    "# Git Setup\n",
    "\n",
    "There are two main repos (at the moment)\n",
    " - [OSBot-jira](https://github.com/owasp-sbot/OSBot-jira.git)  - contains OSBot-GraphDB code link to submodule\n",
    " - [GraphSV-demo-data](https://github.com/owasp-sbot/GraphSV-demo-data) - GraphDB data (nodes and edges)\n",
    " \n",
    "### Initial Config (only needs to run once)"
   ]
  },
  {
   "cell_type": "code",
   "execution_count": 4,
   "metadata": {},
   "outputs": [
    {
     "name": "stdout",
     "output_type": "stream",
     "text": [
      "Cloning into '/codebuild/output/src020299375/src/github.com/OpenSecuritySummit/jp-monday/notebooks/users/jon/OSBot-jira'...\n",
      "remote: Enumerating objects: 938, done.\u001b[K\n",
      "remote: Counting objects: 100% (938/938), done.\u001b[K\n",
      "remote: Compressing objects: 100% (611/611), done.\u001b[K\n",
      "remote: Total 938 (delta 509), reused 714 (delta 289), pack-reused 0\u001b[K\n",
      "Receiving objects: 100% (938/938), 223.63 KiB | 880.00 KiB/s, done.\n",
      "Resolving deltas: 100% (509/509), done.\n"
     ]
    }
   ],
   "source": [
    "!git submodule add https://github.com/owasp-sbot/OSBot-jira.git"
   ]
  },
  {
   "cell_type": "code",
   "execution_count": 8,
   "metadata": {},
   "outputs": [
    {
     "name": "stdout",
     "output_type": "stream",
     "text": [
      "Cloning into '/codebuild/output/src020299375/src/github.com/OpenSecuritySummit/jp-monday/notebooks/users/jon/OSBot-jira/OSBot-GraphDB/GraphSV-demo-data'...\n",
      "Submodule path 'OSBot-GraphDB/GraphSV-demo-data': checked out '4f4ca7a0558c0d72aa49b1e8c1985ae0a2ded37d'\n"
     ]
    }
   ],
   "source": [
    "!cd OSBot-jira ; git submodule init ; git submodule update"
   ]
  },
  {
   "cell_type": "code",
   "execution_count": 13,
   "metadata": {},
   "outputs": [
    {
     "name": "stdout",
     "output_type": "stream",
     "text": [
      "Business_Unit  Function  links.json  Person  Role  Team\n"
     ]
    }
   ],
   "source": [
    "!ls OSBot-jira/OSBot-GraphDB/GraphSV-demo-data/data"
   ]
  },
  {
   "cell_type": "markdown",
   "metadata": {},
   "source": [
    " ### Reload submodules data (run on server restart)"
   ]
  },
  {
   "cell_type": "code",
   "execution_count": 1,
   "metadata": {},
   "outputs": [
    {
     "name": "stdout",
     "output_type": "stream",
     "text": [
      "Submodule 'notebooks/users/jon/OSBot-jira' (https://github.com/owasp-sbot/OSBot-jira.git) registered for path 'OSBot-jira'\n",
      "Cloning into '/codebuild/output/src037962311/src/github.com/OpenSecuritySummit/jp-monday/notebooks/users/jon/OSBot-jira'...\n",
      "Submodule path 'OSBot-jira': checked out '80f5f14e0bd2bc62f74358882f6d221ce711719f'\n",
      "Submodule 'OSBot-GraphDB/GraphSV-demo-data' (git@github.com:owasp-sbot/GraphSV-demo-data.git) registered for path 'OSBot-GraphDB/GraphSV-demo-data'\n",
      "Cloning into '/codebuild/output/src037962311/src/github.com/OpenSecuritySummit/jp-monday/notebooks/users/jon/OSBot-jira/OSBot-GraphDB/GraphSV-demo-data'...\n",
      "Warning: Permanently added the RSA host key for IP address '140.82.118.4' to the list of known hosts.\n",
      "Submodule path 'OSBot-GraphDB/GraphSV-demo-data': checked out '4f4ca7a0558c0d72aa49b1e8c1985ae0a2ded37d'\n"
     ]
    }
   ],
   "source": [
    "!git submodule init\n",
    "!git submodule update\n",
    "!cd OSBot-jira ; git submodule init ; git submodule update"
   ]
  },
  {
   "cell_type": "code",
   "execution_count": null,
   "metadata": {},
   "outputs": [],
   "source": []
  }
 ],
 "metadata": {
  "kernelspec": {
   "display_name": "Python 3",
   "language": "python",
   "name": "python3"
  },
  "language_info": {
   "codemirror_mode": {
    "name": "ipython",
    "version": 3
   },
   "file_extension": ".py",
   "mimetype": "text/x-python",
   "name": "python",
   "nbconvert_exporter": "python",
   "pygments_lexer": "ipython3",
   "version": "3.7.3"
  }
 },
 "nbformat": 4,
 "nbformat_minor": 2
}
