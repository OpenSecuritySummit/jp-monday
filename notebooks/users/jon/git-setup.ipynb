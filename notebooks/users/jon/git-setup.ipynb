{
 "cells": [
  {
   "cell_type": "markdown",
   "metadata": {},
   "source": [
    "# Git Setup\n",
    "\n",
    "There are two main repos (at the moment)\n",
    " - [OSBot-jira](https://github.com/owasp-sbot/OSBot-jira.git)  - contains OSBot-GraphDB code link to submodule\n",
    " - [GraphSV-demo-data](https://github.com/owasp-sbot/GraphSV-demo-data) - GraphDB data (nodes and edges)\n",
    " \n",
    "### Initial Config (only needs to run once)"
   ]
  },
  {
   "cell_type": "code",
   "execution_count": 6,
   "metadata": {},
   "outputs": [],
   "source": [
    "#!git submodule add https://github.com/owasp-sbot/OSBot-jira.git"
   ]
  },
  {
   "cell_type": "code",
   "execution_count": 7,
   "metadata": {},
   "outputs": [],
   "source": [
    "#!cd OSBot-jira ; git submodule init ; git submodule update"
   ]
  },
  {
   "cell_type": "code",
   "execution_count": 8,
   "metadata": {},
   "outputs": [],
   "source": [
    "#!ls OSBot-jira/OSBot-GraphDB/GraphSV-demo-data/data"
   ]
  },
  {
   "cell_type": "markdown",
   "metadata": {},
   "source": [
    " ### Reload submodules data (run on server restart)"
   ]
  },
  {
   "cell_type": "code",
   "execution_count": 1,
   "metadata": {},
   "outputs": [
    {
     "name": "stdout",
     "output_type": "stream",
     "text": [
      "Submodule 'notebooks/users/jon/OSBot-jira' (https://github.com/owasp-sbot/OSBot-jira.git) registered for path 'OSBot-jira'\n",
      "Cloning into '/codebuild/output/src993690057/src/github.com/OpenSecuritySummit/jp-monday/notebooks/users/jon/OSBot-jira'...\n",
      "Submodule path 'OSBot-jira': checked out 'a1670f7cd15a3a0223d327a0b8883a262788d56a'\n",
      "Submodule 'OSBot-GraphDB/GraphSV-demo-data' (git@github.com:owasp-sbot/GraphSV-demo-data.git) registered for path 'OSBot-GraphDB/GraphSV-demo-data'\n",
      "Cloning into '/codebuild/output/src993690057/src/github.com/OpenSecuritySummit/jp-monday/notebooks/users/jon/OSBot-jira/OSBot-GraphDB/GraphSV-demo-data'...\n",
      "Submodule path 'OSBot-GraphDB/GraphSV-demo-data': checked out '07d9996f8341caa88a065d7d838bf498330a872e'\n",
      "From https://github.com/owasp-sbot/OSBot-jira\n",
      " * branch            master     -> FETCH_HEAD\n",
      "Updating a1670f7..2fb8bce\n",
      "Fast-forward\n",
      " OSBot-GraphDB/GraphSV-demo-data                    |   2 \u001b[32m+\u001b[m\u001b[31m-\u001b[m\n",
      " OSBot-GraphDB/osbot_graphsv/api/Issues.py          |  31 \u001b[32m+\u001b[m\u001b[31m-\u001b[m\n",
      " OSBot-GraphDB/osbot_graphsv/api/Links.py           |  32 \u001b[32m+\u001b[m\u001b[31m-\u001b[m\n",
      " .../osbot_graphsv/demo/Demo_Data_Import.py         | 431 \u001b[32m++++++++++++++++++++\u001b[m\u001b[31m-\u001b[m\n",
      " OSBot-GraphDB/tests/demo/test_Demo_Data_Import.py  |  26 \u001b[32m+\u001b[m\u001b[31m-\u001b[m\n",
      " OSBot-GraphDB/tests/views/test_Views_PlantUml.py   |   3 \u001b[32m+\u001b[m\u001b[31m-\u001b[m\n",
      " 6 files changed, 503 insertions(+), 22 deletions(-)\n"
     ]
    }
   ],
   "source": [
    "!git submodule init\n",
    "!git submodule update\n",
    "!cd OSBot-jira ; git submodule init ; git submodule update ; git pull origin master"
   ]
  },
  {
   "cell_type": "code",
   "execution_count": null,
   "metadata": {},
   "outputs": [],
   "source": []
  }
 ],
 "metadata": {
  "kernelspec": {
   "display_name": "Python 3",
   "language": "python",
   "name": "python3"
  },
  "language_info": {
   "codemirror_mode": {
    "name": "ipython",
    "version": 3
   },
   "file_extension": ".py",
   "mimetype": "text/x-python",
   "name": "python",
   "nbconvert_exporter": "python",
   "pygments_lexer": "ipython3",
   "version": "3.7.3"
  }
 },
 "nbformat": 4,
 "nbformat_minor": 2
}
