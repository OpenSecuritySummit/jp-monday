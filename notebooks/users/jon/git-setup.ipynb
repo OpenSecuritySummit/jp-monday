{
 "cells": [
  {
   "cell_type": "markdown",
   "metadata": {},
   "source": [
    "## Git Setup\n",
    "\n",
    "There are two main repos (at the moment)\n",
    " - [OSBot-jira](https://github.com/owasp-sbot/OSBot-jira.git)  - contains OSBot-GraphDB code link to submodule\n",
    " - [GraphSV-demo-data](https://github.com/owasp-sbot/GraphSV-demo-data) - GraphDB data (nodes and edges)"
   ]
  },
  {
   "cell_type": "code",
   "execution_count": 4,
   "metadata": {},
   "outputs": [
    {
     "name": "stdout",
     "output_type": "stream",
     "text": [
      "Cloning into '/codebuild/output/src020299375/src/github.com/OpenSecuritySummit/jp-monday/notebooks/users/jon/OSBot-jira'...\n",
      "remote: Enumerating objects: 938, done.\u001b[K\n",
      "remote: Counting objects: 100% (938/938), done.\u001b[K\n",
      "remote: Compressing objects: 100% (611/611), done.\u001b[K\n",
      "remote: Total 938 (delta 509), reused 714 (delta 289), pack-reused 0\u001b[K\n",
      "Receiving objects: 100% (938/938), 223.63 KiB | 880.00 KiB/s, done.\n",
      "Resolving deltas: 100% (509/509), done.\n"
     ]
    }
   ],
   "source": [
    "!git submodule add https://github.com/owasp-sbot/OSBot-jira.git"
   ]
  },
  {
   "cell_type": "code",
   "execution_count": null,
   "metadata": {},
   "outputs": [],
   "source": []
  }
 ],
 "metadata": {
  "kernelspec": {
   "display_name": "Python 3",
   "language": "python",
   "name": "python3"
  },
  "language_info": {
   "codemirror_mode": {
    "name": "ipython",
    "version": 3
   },
   "file_extension": ".py",
   "mimetype": "text/x-python",
   "name": "python",
   "nbconvert_exporter": "python",
   "pygments_lexer": "ipython3",
   "version": "3.7.3"
  }
 },
 "nbformat": 4,
 "nbformat_minor": 2
}
