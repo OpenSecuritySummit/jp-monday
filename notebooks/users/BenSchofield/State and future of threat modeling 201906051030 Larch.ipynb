{
 "cells": [
  {
   "cell_type": "markdown",
   "metadata": {},
   "source": [
    "Two types of tools\n",
    "1. diagram\n",
    "2. attached \n",
    "\n",
    "https://en.wikipedia.org/wiki/Threat_model#VAST\n",
    "\n",
    "Need domain specialists to map with security experts\n",
    "\n",
    "Problem with agile teams\n",
    "\n",
    ". Look at assets how to attack\n",
    ". How to think like an attacker (not true)\n",
    "\n",
    "System \n",
    "\n",
    "\n"
   ]
  }
 ],
 "metadata": {
  "kernelspec": {
   "display_name": "Python 3",
   "language": "python",
   "name": "python3"
  },
  "language_info": {
   "codemirror_mode": {
    "name": "ipython",
    "version": 3
   },
   "file_extension": ".py",
   "mimetype": "text/x-python",
   "name": "python",
   "nbconvert_exporter": "python",
   "pygments_lexer": "ipython3",
   "version": "3.7.3"
  }
 },
 "nbformat": 4,
 "nbformat_minor": 2
}
