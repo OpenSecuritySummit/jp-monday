{
 "cells": [
  {
   "cell_type": "markdown",
   "metadata": {},
   "source": [
    "# Ministry of magic - underage magic detection system\n",
    "\n",
    "This document describes the process of Wardley mapping"
   ]
  },
  {
   "cell_type": "code",
   "execution_count": null,
   "metadata": {},
   "outputs": [],
   "source": [
    "map = \"\n",
    "\n",
    "add(\"cup\", 3, 1)\n",
    "add(\"tea bag\", 1, 4)\n",
    "add(\"water\", 3, 3)\n",
    "link( \"cup\" , \"water\")\n",
    "link( \"cup\" ,   \"tea bag\")\n",
    "\n",
    "\"\"\n"
   ]
  },
  {
   "cell_type": "code",
   "execution_count": null,
   "metadata": {},
   "outputs": [],
   "source": [
    "def maps_create(code):\n",
    "    aws_lambda = Lambda('osbot_browser.lambdas.lambda_browser')\n",
    "    params = [\"maps\", \"exec_js\"]\n",
    "    params.extend(event[2])\n",
    "\n",
    "    payload = {\"params\": params,\n",
    "               'data': {}}\n",
    "    return aws_lambda.invoke(payload)\n"
   ]
  }
 ],
 "metadata": {
  "kernelspec": {
   "display_name": "Python 3",
   "language": "python",
   "name": "python3"
  },
  "language_info": {
   "codemirror_mode": {
    "name": "ipython",
    "version": 3
   },
   "file_extension": ".py",
   "mimetype": "text/x-python",
   "name": "python",
   "nbconvert_exporter": "python",
   "pygments_lexer": "ipython3",
   "version": "3.7.3"
  }
 },
 "nbformat": 4,
 "nbformat_minor": 2
}
