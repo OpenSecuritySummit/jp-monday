{
 "cells": [
  {
   "cell_type": "markdown",
   "metadata": {},
   "source": [
    "# Ministry of magic - underage magic detection system\n",
    "\n",
    "This document describes the process of Wardley mapping"
   ]
  },
  {
   "cell_type": "code",
   "execution_count": 3,
   "metadata": {},
   "outputs": [],
   "source": [
    "map = \"\"\"\n",
    "\n",
    "add(\"cup\", 3, 1)\n",
    "add(\"tea bag\", 1, 4)\n",
    "add(\"water\", 3, 3)\n",
    "link( \"cup\" , \"water\")\n",
    "link( \"cup\" ,   \"tea bag\")\n",
    "\"\"\"\n"
   ]
  },
  {
   "cell_type": "code",
   "execution_count": 6,
   "metadata": {},
   "outputs": [
    {
     "ename": "ModuleNotFoundError",
     "evalue": "No module named 'ossbot_utils'",
     "output_type": "error",
     "traceback": [
      "\u001b[0;31m---------------------------------------------------------------------------\u001b[0m",
      "\u001b[0;31mModuleNotFoundError\u001b[0m                       Traceback (most recent call last)",
      "\u001b[0;32m<ipython-input-6-59e494c03f29>\u001b[0m in \u001b[0;36m<module>\u001b[0;34m\u001b[0m\n\u001b[1;32m     10\u001b[0m \u001b[0;34m\u001b[0m\u001b[0m\n\u001b[1;32m     11\u001b[0m \u001b[0mmaps_create\u001b[0m\u001b[0;34m(\u001b[0m\u001b[0mmap\u001b[0m\u001b[0;34m)\u001b[0m\u001b[0;34m\u001b[0m\u001b[0;34m\u001b[0m\u001b[0m\n\u001b[0;32m---> 12\u001b[0;31m \u001b[0;32mimport\u001b[0m \u001b[0mossbot_utils\u001b[0m\u001b[0;34m\u001b[0m\u001b[0;34m\u001b[0m\u001b[0m\n\u001b[0m",
      "\u001b[0;31mModuleNotFoundError\u001b[0m: No module named 'ossbot_utils'"
     ]
    }
   ],
   "source": [
    "from osbot_aws.apis.Lambda import Lambda\n",
    "def maps_create(code):\n",
    "    aws_lambda = Lambda('osbot_browser.lambdas.lambda_browser')\n",
    "    params = [\"maps\", \"exec_js\"]\n",
    "    params.extend(code)\n",
    "\n",
    "    payload = {\"params\": params,\n",
    "               'data': {}}\n",
    "    return aws_lambda.invoke(payload)\n",
    "\n",
    "#maps_create(map)\n",
    "def show_png(png_data,height=200):\n",
    "    html = '<img style=\"border:1px solid black;height:{0}pt;\" align=\"left\" src=\"data:image/png;base64,{1}\"/>'.format(height,png_data)\n",
    "    display_html(html, raw=True)    "
   ]
  },
  {
   "cell_type": "code",
   "execution_count": null,
   "metadata": {},
   "outputs": [],
   "source": []
  }
 ],
 "metadata": {
  "kernelspec": {
   "display_name": "Python 3",
   "language": "python",
   "name": "python3"
  },
  "language_info": {
   "codemirror_mode": {
    "name": "ipython",
    "version": 3
   },
   "file_extension": ".py",
   "mimetype": "text/x-python",
   "name": "python",
   "nbconvert_exporter": "python",
   "pygments_lexer": "ipython3",
   "version": "3.7.3"
  }
 },
 "nbformat": 4,
 "nbformat_minor": 2
}
