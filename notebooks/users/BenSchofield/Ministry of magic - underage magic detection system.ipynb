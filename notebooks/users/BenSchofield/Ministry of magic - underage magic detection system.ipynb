{
 "cells": [
  {
   "cell_type": "markdown",
   "metadata": {},
   "source": [
    "# Ministry of magic - underage magic detection system\n",
    "\n",
    "This document describes the process of Wardley mapping"
   ]
  },
  {
   "cell_type": "code",
   "execution_count": 47,
   "metadata": {},
   "outputs": [
    {
     "data": {
      "application/javascript": [
       "$('.container').width('95%')\n"
      ],
      "text/plain": [
       "<IPython.core.display.Javascript object>"
      ]
     },
     "metadata": {},
     "output_type": "display_data"
    }
   ],
   "source": [
    "%%javascript\n",
    "$('.container').width('95%')"
   ]
  },
  {
   "cell_type": "code",
   "execution_count": 48,
   "metadata": {},
   "outputs": [],
   "source": [
    "from IPython.display        import display_html, HTML, Javascript,display\n",
    "from osbot_aws.apis.Lambda import Lambda\n",
    "def maps_create(code):\n",
    "    aws_lambda = Lambda('osbot_browser.lambdas.lambda_browser')\n",
    "    params = [\"maps\", \"exec_js\"]\n",
    "    params.extend(code.split(' '))\n",
    "\n",
    "    payload = {\"params\": params,\n",
    "               'data': {}}\n",
    "    png_data = aws_lambda.invoke(payload)\n",
    "    show_png(png_data)\n",
    "\n",
    "#maps_create(map)\n",
    "def show_png(png_data,height=200):\n",
    "    html = '<img style=\"width:100%;height:800px;border:1px solid black\" align=\"left\" src=\"data:image/png;base64,{1}\"/>'.format(height,png_data)\n",
    "    display_html(html, raw=True)    \n",
    "\n",
    "    "
   ]
  },
  {
   "cell_type": "code",
   "execution_count": 4,
   "metadata": {},
   "outputs": [
    {
     "ename": "NameError",
     "evalue": "name 'maps_create' is not defined",
     "output_type": "error",
     "traceback": [
      "\u001b[0;31m---------------------------------------------------------------------------\u001b[0m",
      "\u001b[0;31mNameError\u001b[0m                                 Traceback (most recent call last)",
      "\u001b[0;32m<ipython-input-4-453553198ec7>\u001b[0m in \u001b[0;36m<module>\u001b[0;34m\u001b[0m\n\u001b[1;32m     18\u001b[0m \"\"\"\n\u001b[1;32m     19\u001b[0m \u001b[0;34m\u001b[0m\u001b[0m\n\u001b[0;32m---> 20\u001b[0;31m \u001b[0mmaps_create\u001b[0m\u001b[0;34m(\u001b[0m\u001b[0mmap_code\u001b[0m\u001b[0;34m)\u001b[0m\u001b[0;34m\u001b[0m\u001b[0;34m\u001b[0m\u001b[0m\n\u001b[0m",
      "\u001b[0;31mNameError\u001b[0m: name 'maps_create' is not defined"
     ]
    }
   ],
   "source": [
    "map_code = \"\"\"\n",
    "add(\"ministers\", 2.1, 1.1)\n",
    "add(\"wizards\", 2, 1)\n",
    "add(\"parents\", 2.3, 1)\n",
    "add(\"school\", 2.2, 1)\n",
    "add(\"underage\", 4, 4)\n",
    "add(\"magic\", 1, 4)\n",
    "add(\"triage\", 1, 5)\n",
    "add(\"location tracking\", 1, 4)\n",
    "add(\"image match on social\", 1, 4)\n",
    "add(\"facial recognition\", 1, 4)\n",
    "add(\"report of magic\", 2, 2)\n",
    "add(\"DB Magic types\", 4, 4)\n",
    "add(\"DB Magic types\", 4, 4)\n",
    "link( \"ministers\" , \"report of magic\")\n",
    "link( \"report of magic\" ,   \"magic\")\n",
    "link( \"report of magic\" ,   \"underage\")\n",
    "link( \"magic\" ,   \"triage\")\n",
    "\"\"\"\n",
    "\n",
    "maps_create(map_code)"
   ]
  },
  {
   "cell_type": "code",
   "execution_count": null,
   "metadata": {},
   "outputs": [],
   "source": []
  },
  {
   "cell_type": "code",
   "execution_count": null,
   "metadata": {},
   "outputs": [],
   "source": []
  },
  {
   "cell_type": "code",
   "execution_count": null,
   "metadata": {},
   "outputs": [],
   "source": []
  }
 ],
 "metadata": {
  "kernelspec": {
   "display_name": "Python 3",
   "language": "python",
   "name": "python3"
  },
  "language_info": {
   "codemirror_mode": {
    "name": "ipython",
    "version": 3
   },
   "file_extension": ".py",
   "mimetype": "text/x-python",
   "name": "python",
   "nbconvert_exporter": "python",
   "pygments_lexer": "ipython3",
   "version": "3.7.3"
  }
 },
 "nbformat": 4,
 "nbformat_minor": 2
}
