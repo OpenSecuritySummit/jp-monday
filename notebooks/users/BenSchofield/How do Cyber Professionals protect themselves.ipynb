{
 "cells": [
  {
   "cell_type": "markdown",
   "metadata": {},
   "source": [
    "# How do Cyber Professionals protect themselves\n",
    "\n",
    "WHEN\n",
    "\n",
    "\tTue Eve-1 @https://open-security-summit.org/\n",
    "\n",
    "WHY\n",
    "\n",
    "How do we get the business people interested in (and putting a value on) security.  They need to understand how exposed they are, high profile celebrities and major company execs will have active cyber protection programmes.  How can we share basic good cyber hygiene good practice to help those outside the cyber community\n"
   ]
  },
  {
   "cell_type": "markdown",
   "metadata": {},
   "source": [
    "https://linddun.org/linddun.php "
   ]
  },
  {
   "cell_type": "markdown",
   "metadata": {},
   "source": [
    "Basic check on safety https://www.blog.google/technology/safety-security/five-things-you-can-do-right-now-to-stay-safer-online/\n",
    "\n",
    "1. Set up a recovery phone number or email address, and keep it updated.\n",
    "2. Use unique passwords for your accounts.\n",
    "3. Keep your software up to date.\n",
    "4. Go a step further by setting up two-factor authentication. g.co/2sv \n",
    "5. Take the Google Security Checkup."
   ]
  },
  {
   "cell_type": "code",
   "execution_count": null,
   "metadata": {},
   "outputs": [],
   "source": []
  }
 ],
 "metadata": {
  "kernelspec": {
   "display_name": "Python 3",
   "language": "python",
   "name": "python3"
  },
  "language_info": {
   "codemirror_mode": {
    "name": "ipython",
    "version": 3
   },
   "file_extension": ".py",
   "mimetype": "text/x-python",
   "name": "python",
   "nbconvert_exporter": "python",
   "pygments_lexer": "ipython3",
   "version": "3.7.3"
  }
 },
 "nbformat": 4,
 "nbformat_minor": 2
}
