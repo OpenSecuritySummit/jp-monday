{
 "cells": [
  {
   "cell_type": "markdown",
   "metadata": {},
   "source": [
    "# How do Cyber Professionals protect themselves\n",
    "\n",
    "WHEN\n",
    "\n",
    "\tTue Eve-1 @https://open-security-summit.org/\n",
    "\n",
    "WHY\n",
    "\n",
    "How do we get the business people interested in (and putting a value on) security.  They need to understand how exposed they are, high profile celebrities and major company execs will have active cyber protection programmes.  How can we share basic good cyber hygiene good practice to help those outside the cyber community\n"
   ]
  },
  {
   "cell_type": "markdown",
   "metadata": {},
   "source": [
    "https://linddun.org/linddun.php \n",
    "\n",
    "1. Define the DFD\n",
    "2. Map privacy threats to DFD elements\n",
    "The second step of the methodology uses the LINDDUN mapping template as shown in the table below (and in step 2 of the step-by-step example) as a guide to determine the threats that correspond to the DFD created in the previous step.\n",
    "\n",
    "The analyst should create a \"personalized\" table, based on LINDDUN's mapping table, which contains a row for each of the individual elements of the created DFD. This table can then be used as checklist throughout the elicitation phase, as each \"x\" in the table highlights a potential threat to the system that requires further analysis.\n",
    "\n",
    "L\tI\tN\tD\tD\tU\tN\n",
    "Entity\tX\tX\t\t\t\tX\t\n",
    "Data store\tX\tX\tX\tX\tX\t\tX\n",
    "Data flow\tX\tX\tX\tX\tX\t\tX\n",
    "Process\tX\tX\tX\tX\tX\t\tX\n",
    "Mapping LINDDUN threat categories (Linkability, Identifiability, Non-repudiation, Detectability, Disclosure of information, Unawareness, Non-compliance) to DFD element types. \n",
    "(Hover over the X's to receive more information related to the X's applicability)\n",
    "\n",
    "3. Identify threat scenarios\n",
    "The third step of the LINDDUN methodology consists of a number of substeps.\n",
    "\n",
    "Eliciting threats using threat tree patterns\n",
    "Each of the X's in the mapping table of step 2 are examined to determine whether they pose a threat to the system. To this aim, LINDDUN provides a set of privacy threat tree patterns. These trees represent the most common attack paths for a specific LINDDUN threat category and DFD element type. An example tree is shown below.\n",
    "\n",
    "The latest version of these privacy threat tree patterns is available in the LINDDUN privacy threat tree catalog.\n",
    "\n",
    "\n",
    "Example LINDDUN threat tree. \n",
    "Please visit the threat tree catalog for the latest version of all trees.\n",
    "\n",
    "Documenting threats using threat description template\n",
    "The analyst should examine each of the branches of the tree with the specifid DFD element in mind. Each of the leaf nodes (or branches) that are applicable should be documented as threat description (LINDDUN suggest misuse cases as appropriate description template).\n",
    "\n",
    "Documenting assumptions\n",
    "Leaf nodes and branches that are not applicable should be explicitly documented as assumptions. When one of the assumptions is altered in the process, it is important to easily track the required changes in the privacy analysis results.\n",
    "\n",
    "Solution-oriented LINDDUN steps\n",
    "4. Prioritize threats\n",
    "Furthermore, all the potential privacy threats that are suggested by the privacy threat trees are evaluated and prioritized via risk assessment (step 4). Note that LINDDUN does not provide explicit risk analysis support. We merely refer the analyst to established risk assessment techniques.\n",
    "\n",
    "5. Elicit mitigation strategies\n",
    "Hereafter, in order of importance (determined during step 4), the suitable mitigation strategy for each threat is determined (step 5).\n",
    "\n",
    "6. Select corresponding PETS"
   ]
  },
  {
   "cell_type": "markdown",
   "metadata": {},
   "source": [
    "Basic check on safety https://www.blog.google/technology/safety-security/five-things-you-can-do-right-now-to-stay-safer-online/\n",
    "\n",
    "1. Set up a recovery phone number or email address, and keep it updated.\n",
    "2. Use unique passwords for your accounts.\n",
    "3. Keep your software up to date.\n",
    "4. Go a step further by setting up two-factor authentication. g.co/2sv \n",
    "5. Take the Google Security Checkup."
   ]
  },
  {
   "cell_type": "code",
   "execution_count": null,
   "metadata": {},
   "outputs": [],
   "source": []
  }
 ],
 "metadata": {
  "kernelspec": {
   "display_name": "Python 3",
   "language": "python",
   "name": "python3"
  },
  "language_info": {
   "codemirror_mode": {
    "name": "ipython",
    "version": 3
   },
   "file_extension": ".py",
   "mimetype": "text/x-python",
   "name": "python",
   "nbconvert_exporter": "python",
   "pygments_lexer": "ipython3",
   "version": "3.7.3"
  }
 },
 "nbformat": 4,
 "nbformat_minor": 2
}
