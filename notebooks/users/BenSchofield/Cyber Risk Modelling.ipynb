{
 "cells": [
  {
   "cell_type": "markdown",
   "metadata": {},
   "source": [
    "# Cyber Risk Modelling\n",
    "\n",
    "## Why\n",
    "\n",
    "Phil brings his extensive experience to a discussion on modelling (general) risk and comparing security risk modelling maturity to other markets (finance, insurance, medical..). This also involves attribution of $ value to risk and how security teams can talk the language of the business\n",
    "\n",
    "## What\n",
    "\n",
    "Current Security Risk Management is Broken\n",
    "\n",
    "There is a lot of complexity and uncertainty in cyber risk.\n",
    "Current practice tends to hide uncertainty and present certainty.\n",
    "\n",
    "We use Ordinal Scales (Red, Amber, Green / High, Medium, Low / 1,2,3,4,5 etc) rather than Cardinal measures (£ or %).\n",
    "Is a red x red risk a really red risk? Twice as bad? Three times as bad?\n",
    "We then assign numerical values to support ‘risk arithmetic’ (5 x 5 = 25 /2.5 = risk score)\n",
    "OWASP Risk Rating Methodology (Risk Factors / Ordinal Scales)\n",
    "\n",
    "We then use risk matrices that arbitrarily identify an ordinal boundary as the ‘risk appetite’. (Amber =Good, red = Bad).\n",
    "\n",
    "By assigning a single value to probability and impact we are communicating a level of certainty about the outcome we don’t really have.\n",
    "\n",
    "People are individually poor at prediction\n",
    "Hedgehogs / Foxes / Superpredictors\n",
    "\n",
    "We are awash with data about cyber events but few documented robust statistical methods deployed. \n",
    "\n",
    "The solutions are well known by other risk professions\n",
    "\n",
    "Appetite and tolerance\n",
    "\n",
    "## Quantitative Risk Approaches\n",
    "\n",
    "Probability of event\n",
    "Range of outcomes (lognormal distribution)\n",
    "Monte Carlo Simulation\n",
    "Loss Exceedance Curves <- Business understands these\n",
    "FAIR / OpenFAIR\n",
    "\n",
    "Prediction Approaches\n",
    "Risk Panels\n",
    "Averaged predictions\n",
    "Feedback !!!!!!!!!\n",
    "Brier Scores \n",
    "Base Rate Data\n",
    "Calibration\n",
    "\n",
    "References:\n",
    "Dan Geer\n",
    "Doug Hubbard\n",
    "Philip Tetlock\n",
    "Jack Jones\n",
    "Ryan Huber"
   ]
  }
 ],
 "metadata": {
  "kernelspec": {
   "display_name": "Python 3",
   "language": "python",
   "name": "python3"
  },
  "language_info": {
   "codemirror_mode": {
    "name": "ipython",
    "version": 3
   },
   "file_extension": ".py",
   "mimetype": "text/x-python",
   "name": "python",
   "nbconvert_exporter": "python",
   "pygments_lexer": "ipython3",
   "version": "3.7.3"
  }
 },
 "nbformat": 4,
 "nbformat_minor": 2
}
