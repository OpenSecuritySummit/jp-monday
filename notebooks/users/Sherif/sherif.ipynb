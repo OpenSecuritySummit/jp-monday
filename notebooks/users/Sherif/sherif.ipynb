{
 "cells": [
  {
   "cell_type": "code",
   "execution_count": 1,
   "metadata": {},
   "outputs": [
    {
     "ename": "ModuleNotFoundError",
     "evalue": "No module named 'cymruwhois'",
     "output_type": "error",
     "traceback": [
      "\u001b[0;31m---------------------------------------------------------------------------\u001b[0m",
      "\u001b[0;31mModuleNotFoundError\u001b[0m                       Traceback (most recent call last)",
      "\u001b[0;32m<ipython-input-1-260568b26add>\u001b[0m in \u001b[0;36m<module>\u001b[0;34m\u001b[0m\n\u001b[0;32m----> 1\u001b[0;31m \u001b[0;32mfrom\u001b[0m \u001b[0mcymruwhois\u001b[0m \u001b[0;32mimport\u001b[0m \u001b[0mClient\u001b[0m\u001b[0;34m\u001b[0m\u001b[0;34m\u001b[0m\u001b[0m\n\u001b[0m\u001b[1;32m      2\u001b[0m \u001b[0;32mimport\u001b[0m \u001b[0mipresolved\u001b[0m\u001b[0;34m\u001b[0m\u001b[0;34m\u001b[0m\u001b[0m\n\u001b[1;32m      3\u001b[0m \u001b[0mdomain\u001b[0m\u001b[0;34m=\u001b[0m\u001b[0;34m'facebook.com'\u001b[0m\u001b[0;34m\u001b[0m\u001b[0;34m\u001b[0m\u001b[0m\n\u001b[1;32m      4\u001b[0m \u001b[0mips\u001b[0m\u001b[0;34m=\u001b[0m\u001b[0mipresolved\u001b[0m\u001b[0;34m.\u001b[0m\u001b[0mgetipresolvedfromdomain\u001b[0m\u001b[0;34m(\u001b[0m\u001b[0mdomain\u001b[0m\u001b[0;34m)\u001b[0m\u001b[0;34m\u001b[0m\u001b[0;34m\u001b[0m\u001b[0m\n\u001b[1;32m      5\u001b[0m \u001b[0mc\u001b[0m\u001b[0;34m=\u001b[0m\u001b[0mClient\u001b[0m\u001b[0;34m(\u001b[0m\u001b[0;34m)\u001b[0m\u001b[0;34m\u001b[0m\u001b[0;34m\u001b[0m\u001b[0m\n",
      "\u001b[0;31mModuleNotFoundError\u001b[0m: No module named 'cymruwhois'"
     ]
    }
   ],
   "source": [
    "from cymruwhois import Client\n",
    "import ipresolved\n",
    "domain='facebook.com'\n",
    "ips=ipresolved.getipresolvedfromdomain(domain)\n",
    "c=Client()\n",
    "for i in ips.json()['resolutions']:\n",
    "    ip=i['ip_address']\n",
    "    print('ip : '+ip)\n",
    "    r=c.lookup(ip)\n",
    "    print('asn number: ',r.asn)\n",
    "    print('asn owener : ',r.owner)\n",
    "    print('==============')"
   ]
  },
  {
   "cell_type": "code",
   "execution_count": 2,
   "metadata": {},
   "outputs": [
    {
     "name": "stdout",
     "output_type": "stream",
     "text": [
      "crawl-203-208-60-1.googlebot.com\n"
     ]
    }
   ],
   "source": [
    "import socket\n",
    "\n",
    "\n",
    "## Needs clean up\n",
    "reversed_dns = socket.gethostbyaddr('203.208.60.1')\n",
    "# ('crawl-203-208-60-1.googlebot.com', ['1.60.208.203.in-addr.arpa'], ['203.208.60.1'])\n",
    "reversed_dns[0]\n",
    "# 'crawl-203-208-60-1.googlebot.com'\n",
    "print(reversed_dns[0])"
   ]
  },
  {
   "cell_type": "code",
   "execution_count": 3,
   "metadata": {},
   "outputs": [],
   "source": [
    "import OpenSSL\n",
    "import ssl\n",
    "\n",
    "\n",
    "\n",
    "def get_cert(addr):\n",
    "    cert = ssl.get_server_certificate((addr, 443))\n",
    "    x509 = OpenSSL.crypto.load_certificate(OpenSSL.crypto.FILETYPE_PEM, cert)\n",
    "    return x509\n",
    "# cert = ssl.get_server_certificate(('cnn.com', 443))\n",
    "# x509 = OpenSSL.crypto.load_certificate(OpenSSL.crypto.FILETYPE_PEM, cert)\n",
    "\n",
    "\n",
    "def get_certificate_san(x509cert):\n",
    "    san = ''\n",
    "    ext_count = x509cert.get_extension_count()\n",
    "    for i in range(0, ext_count):\n",
    "        ext = x509cert.get_extension(i)\n",
    "        if 'subjectAltName' in str(ext.get_short_name()):\n",
    "            san = (ext.__str__())\n",
    "    cleandns = san\n",
    "    cleanerdns = cleandns.replace(\"DNS:\", \"\")\n",
    "    dnslist = cleanerdns.split(\",\")\n",
    "    return dnslist"
   ]
  },
  {
   "cell_type": "code",
   "execution_count": 4,
   "metadata": {},
   "outputs": [
    {
     "ename": "SyntaxError",
     "evalue": "invalid syntax (<ipython-input-4-2d0ed6e6f0b6>, line 2)",
     "output_type": "error",
     "traceback": [
      "\u001b[0;36m  File \u001b[0;32m\"<ipython-input-4-2d0ed6e6f0b6>\"\u001b[0;36m, line \u001b[0;32m2\u001b[0m\n\u001b[0;31m    pip3 install OpenSSL\u001b[0m\n\u001b[0m               ^\u001b[0m\n\u001b[0;31mSyntaxError\u001b[0m\u001b[0;31m:\u001b[0m invalid syntax\n"
     ]
    }
   ],
   "source": [
    "!\n",
    "pip3 install OpenSSL"
   ]
  },
  {
   "cell_type": "code",
   "execution_count": 9,
   "metadata": {},
   "outputs": [
    {
     "name": "stdout",
     "output_type": "stream",
     "text": [
      "\u001b[33mWARNING: The directory '/home/jovyan/.cache/pip/http' or its parent directory is not owned by the current user and the cache has been disabled. Please check the permissions and owner of that directory. If executing pip with sudo, you may want sudo's -H flag.\u001b[0m\n",
      "\u001b[33mWARNING: The directory '/home/jovyan/.cache/pip' or its parent directory is not owned by the current user and caching wheels has been disabled. check the permissions and owner of that directory. If executing pip with sudo, you may want sudo's -H flag.\u001b[0m\n",
      "Collecting ipresolved\n",
      "\u001b[31m  ERROR: Could not find a version that satisfies the requirement ipresolved (from versions: none)\u001b[0m\n",
      "\u001b[31mERROR: No matching distribution found for ipresolved\u001b[0m\n"
     ]
    }
   ],
   "source": [
    "! pip install ipresolved"
   ]
  },
  {
   "cell_type": "code",
   "execution_count": 10,
   "metadata": {},
   "outputs": [
    {
     "name": "stdout",
     "output_type": "stream",
     "text": [
      "\n",
      "#\n",
      "# ARIN WHOIS data and services are subject to the Terms of Use\n",
      "# available at: https://www.arin.net/resources/registry/whois/tou/\n",
      "#\n",
      "# If you see inaccuracies in the results, please report at\n",
      "# https://www.arin.net/resources/registry/whois/inaccuracy_reporting/\n",
      "#\n",
      "# Copyright 1997-2019, American Registry for Internet Numbers, Ltd.\n",
      "#\n",
      "\n",
      "\n",
      "#\n",
      "# Query terms are ambiguous.  The query is assumed to be:\n",
      "#     \"n 108.162.202.6\"\n",
      "#\n",
      "# Use \"?\" to get help.\n",
      "#\n",
      "\n",
      "NetRange:       108.162.192.0 - 108.162.255.255\n",
      "CIDR:           108.162.192.0/18\n",
      "NetName:        CLOUDFLARENET\n",
      "NetHandle:      NET-108-162-192-0-1\n",
      "Parent:         NET108 (NET-108-0-0-0-0)\n",
      "NetType:        Direct Assignment\n",
      "OriginAS:       AS13335\n",
      "Organization:   Cloudflare, Inc. (CLOUD14)\n",
      "RegDate:        2011-10-28\n",
      "Updated:        2017-02-17\n",
      "Comment:        All Cloudflare abuse reporting can be done via https://www.cloudflare.com/abuse\n",
      "Ref:            https://rdap.arin.net/registry/ip/108.162.192.0\n",
      "\n",
      "\n",
      "\n",
      "OrgName:        Cloudflare, Inc.\n",
      "OrgId:          CLOUD14\n",
      "Address:        101 Townsend Street\n",
      "City:           San Francisco\n",
      "StateProv:      CA\n",
      "PostalCode:     94107\n",
      "Country:        US\n",
      "RegDate:        2010-07-09\n",
      "Updated:        2018-10-10\n",
      "Comment:        All Cloudflare abuse reporting can be done via https://www.cloudflare.com/abuse\n",
      "Ref:            https://rdap.arin.net/registry/entity/CLOUD14\n",
      "\n",
      "\n",
      "OrgNOCHandle: NOC11962-ARIN\n",
      "OrgNOCName:   NOC\n",
      "OrgNOCPhone:  +1-650-319-8930 \n",
      "OrgNOCEmail:  noc@cloudflare.com\n",
      "OrgNOCRef:    https://rdap.arin.net/registry/entity/NOC11962-ARIN\n",
      "\n",
      "OrgTechHandle: ADMIN2521-ARIN\n",
      "OrgTechName:   Admin\n",
      "OrgTechPhone:  +1-650-319-8930 \n",
      "OrgTechEmail:  rir@cloudflare.com\n",
      "OrgTechRef:    https://rdap.arin.net/registry/entity/ADMIN2521-ARIN\n",
      "\n",
      "OrgAbuseHandle: ABUSE2916-ARIN\n",
      "OrgAbuseName:   Abuse\n",
      "OrgAbusePhone:  +1-650-319-8930 \n",
      "OrgAbuseEmail:  abuse@cloudflare.com\n",
      "OrgAbuseRef:    https://rdap.arin.net/registry/entity/ABUSE2916-ARIN\n",
      "\n",
      "RAbuseHandle: ABUSE2916-ARIN\n",
      "RAbuseName:   Abuse\n",
      "RAbusePhone:  +1-650-319-8930 \n",
      "RAbuseEmail:  abuse@cloudflare.com\n",
      "RAbuseRef:    https://rdap.arin.net/registry/entity/ABUSE2916-ARIN\n",
      "\n",
      "RTechHandle: ADMIN2521-ARIN\n",
      "RTechName:   Admin\n",
      "RTechPhone:  +1-650-319-8930 \n",
      "RTechEmail:  rir@cloudflare.com\n",
      "RTechRef:    https://rdap.arin.net/registry/entity/ADMIN2521-ARIN\n",
      "\n",
      "RNOCHandle: NOC11962-ARIN\n",
      "RNOCName:   NOC\n",
      "RNOCPhone:  +1-650-319-8930 \n",
      "RNOCEmail:  noc@cloudflare.com\n",
      "RNOCRef:    https://rdap.arin.net/registry/entity/NOC11962-ARIN\n",
      "\n",
      "\n",
      "#\n",
      "# ARIN WHOIS data and services are subject to the Terms of Use\n",
      "# available at: https://www.arin.net/resources/registry/whois/tou/\n",
      "#\n",
      "# If you see inaccuracies in the results, please report at\n",
      "# https://www.arin.net/resources/registry/whois/inaccuracy_reporting/\n",
      "#\n",
      "# Copyright 1997-2019, American Registry for Internet Numbers, Ltd.\n",
      "#\n",
      "\n",
      "\n"
     ]
    }
   ],
   "source": [
    "import sys\n",
    "import socket\n",
    "\n",
    "s = socket.socket(socket.AF_INET, socket.SOCK_STREAM)\n",
    "s.connect((\"whois.arin.net\", 43))\n",
    "\n",
    "#convert string to bytes, socket need bytes\n",
    "s.send((\"108.162.202.6\" + \"\\r\\n\").encode())\n",
    "# s.send((sys.argv[1] + \"\\r\\n\").encode())\n",
    "\n",
    "#declares a bytes\n",
    "response = b\"\"\n",
    "while True:\n",
    "    data = s.recv(4096)\n",
    "    response += data\n",
    "    if not data:\n",
    "        break\n",
    "s.close()\n",
    "\n",
    "#convert bytes to string\n",
    "print(response.decode())"
   ]
  },
  {
   "cell_type": "code",
   "execution_count": null,
   "metadata": {},
   "outputs": [],
   "source": []
  }
 ],
 "metadata": {
  "kernelspec": {
   "display_name": "Python 3",
   "language": "python",
   "name": "python3"
  },
  "language_info": {
   "codemirror_mode": {
    "name": "ipython",
    "version": 3
   },
   "file_extension": ".py",
   "mimetype": "text/x-python",
   "name": "python",
   "nbconvert_exporter": "python",
   "pygments_lexer": "ipython3",
   "version": "3.7.3"
  }
 },
 "nbformat": 4,
 "nbformat_minor": 2
}
