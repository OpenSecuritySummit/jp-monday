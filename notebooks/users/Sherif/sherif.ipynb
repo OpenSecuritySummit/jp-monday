{
 "cells": [
  {
   "cell_type": "code",
   "execution_count": 1,
   "metadata": {},
   "outputs": [
    {
     "ename": "ModuleNotFoundError",
     "evalue": "No module named 'cymruwhois'",
     "output_type": "error",
     "traceback": [
      "\u001b[0;31m---------------------------------------------------------------------------\u001b[0m",
      "\u001b[0;31mModuleNotFoundError\u001b[0m                       Traceback (most recent call last)",
      "\u001b[0;32m<ipython-input-1-260568b26add>\u001b[0m in \u001b[0;36m<module>\u001b[0;34m\u001b[0m\n\u001b[0;32m----> 1\u001b[0;31m \u001b[0;32mfrom\u001b[0m \u001b[0mcymruwhois\u001b[0m \u001b[0;32mimport\u001b[0m \u001b[0mClient\u001b[0m\u001b[0;34m\u001b[0m\u001b[0;34m\u001b[0m\u001b[0m\n\u001b[0m\u001b[1;32m      2\u001b[0m \u001b[0;32mimport\u001b[0m \u001b[0mipresolved\u001b[0m\u001b[0;34m\u001b[0m\u001b[0;34m\u001b[0m\u001b[0m\n\u001b[1;32m      3\u001b[0m \u001b[0mdomain\u001b[0m\u001b[0;34m=\u001b[0m\u001b[0;34m'facebook.com'\u001b[0m\u001b[0;34m\u001b[0m\u001b[0;34m\u001b[0m\u001b[0m\n\u001b[1;32m      4\u001b[0m \u001b[0mips\u001b[0m\u001b[0;34m=\u001b[0m\u001b[0mipresolved\u001b[0m\u001b[0;34m.\u001b[0m\u001b[0mgetipresolvedfromdomain\u001b[0m\u001b[0;34m(\u001b[0m\u001b[0mdomain\u001b[0m\u001b[0;34m)\u001b[0m\u001b[0;34m\u001b[0m\u001b[0;34m\u001b[0m\u001b[0m\n\u001b[1;32m      5\u001b[0m \u001b[0mc\u001b[0m\u001b[0;34m=\u001b[0m\u001b[0mClient\u001b[0m\u001b[0;34m(\u001b[0m\u001b[0;34m)\u001b[0m\u001b[0;34m\u001b[0m\u001b[0;34m\u001b[0m\u001b[0m\n",
      "\u001b[0;31mModuleNotFoundError\u001b[0m: No module named 'cymruwhois'"
     ]
    }
   ],
   "source": [
    "from cymruwhois import Client\n",
    "import ipresolved\n",
    "domain='facebook.com'\n",
    "ips=ipresolved.getipresolvedfromdomain(domain)\n",
    "c=Client()\n",
    "for i in ips.json()['resolutions']:\n",
    "    ip=i['ip_address']\n",
    "    print('ip : '+ip)\n",
    "    r=c.lookup(ip)\n",
    "    print('asn number: ',r.asn)\n",
    "    print('asn owener : ',r.owner)\n",
    "    print('==============')"
   ]
  },
  {
   "cell_type": "code",
   "execution_count": 2,
   "metadata": {},
   "outputs": [
    {
     "name": "stdout",
     "output_type": "stream",
     "text": [
      "crawl-203-208-60-1.googlebot.com\n"
     ]
    }
   ],
   "source": [
    "import socket\n",
    "\n",
    "\n",
    "## Needs clean up\n",
    "reversed_dns = socket.gethostbyaddr('203.208.60.1')\n",
    "# ('crawl-203-208-60-1.googlebot.com', ['1.60.208.203.in-addr.arpa'], ['203.208.60.1'])\n",
    "reversed_dns[0]\n",
    "# 'crawl-203-208-60-1.googlebot.com'\n",
    "print(reversed_dns[0])"
   ]
  },
  {
   "cell_type": "code",
   "execution_count": 3,
   "metadata": {},
   "outputs": [],
   "source": [
    "import OpenSSL\n",
    "import ssl\n",
    "\n",
    "\n",
    "\n",
    "def get_cert(addr):\n",
    "    cert = ssl.get_server_certificate((addr, 443))\n",
    "    x509 = OpenSSL.crypto.load_certificate(OpenSSL.crypto.FILETYPE_PEM, cert)\n",
    "    return x509\n",
    "# cert = ssl.get_server_certificate(('cnn.com', 443))\n",
    "# x509 = OpenSSL.crypto.load_certificate(OpenSSL.crypto.FILETYPE_PEM, cert)\n",
    "\n",
    "\n",
    "def get_certificate_san(x509cert):\n",
    "    san = ''\n",
    "    ext_count = x509cert.get_extension_count()\n",
    "    for i in range(0, ext_count):\n",
    "        ext = x509cert.get_extension(i)\n",
    "        if 'subjectAltName' in str(ext.get_short_name()):\n",
    "            san = (ext.__str__())\n",
    "    cleandns = san\n",
    "    cleanerdns = cleandns.replace(\"DNS:\", \"\")\n",
    "    dnslist = cleanerdns.split(\",\")\n",
    "    return dnslist"
   ]
  },
  {
   "cell_type": "code",
   "execution_count": 4,
   "metadata": {},
   "outputs": [
    {
     "ename": "SyntaxError",
     "evalue": "invalid syntax (<ipython-input-4-2d0ed6e6f0b6>, line 2)",
     "output_type": "error",
     "traceback": [
      "\u001b[0;36m  File \u001b[0;32m\"<ipython-input-4-2d0ed6e6f0b6>\"\u001b[0;36m, line \u001b[0;32m2\u001b[0m\n\u001b[0;31m    pip3 install OpenSSL\u001b[0m\n\u001b[0m               ^\u001b[0m\n\u001b[0;31mSyntaxError\u001b[0m\u001b[0;31m:\u001b[0m invalid syntax\n"
     ]
    }
   ],
   "source": [
    "!\n",
    "pip3 install OpenSSL"
   ]
  },
  {
   "cell_type": "code",
   "execution_count": null,
   "metadata": {},
   "outputs": [],
   "source": [
    "! pip3 install OpenSS"
   ]
  }
 ],
 "metadata": {
  "kernelspec": {
   "display_name": "Python 3",
   "language": "python",
   "name": "python3"
  },
  "language_info": {
   "codemirror_mode": {
    "name": "ipython",
    "version": 3
   },
   "file_extension": ".py",
   "mimetype": "text/x-python",
   "name": "python",
   "nbconvert_exporter": "python",
   "pygments_lexer": "ipython3",
   "version": "3.7.3"
  }
 },
 "nbformat": 4,
 "nbformat_minor": 2
}
