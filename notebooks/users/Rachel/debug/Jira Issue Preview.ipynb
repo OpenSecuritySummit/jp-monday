{
 "cells": [
  {
   "cell_type": "markdown",
   "metadata": {},
   "source": [
    "## Cup of Tea .....\n",
    "\n",
    "This is a Wardley map of an Cup of tea that is created from data stored in Jira\n",
    "\n",
    "here is the root issue https://ubuntu-policy.atlassian.net/browse/MAP-8\n",
    "\n",
    "Here is the Kanban Board to edit the data: https://ubuntu-policy.atlassian.net/secure/RapidBoard.jspa?rapidView=8&projectKey=MAP"
   ]
  },
  {
   "cell_type": "code",
   "execution_count": 2,
   "metadata": {},
   "outputs": [
    {
     "ename": "SyntaxError",
     "evalue": "invalid syntax (<ipython-input-2-06742d8235b1>, line 1)",
     "output_type": "error",
     "traceback": [
      "\u001b[0;36m  File \u001b[0;32m\"<ipython-input-2-06742d8235b1>\"\u001b[0;36m, line \u001b[0;32m1\u001b[0m\n\u001b[0;31m    Import JiraIssueWrangler\u001b[0m\n\u001b[0m                           ^\u001b[0m\n\u001b[0;31mSyntaxError\u001b[0m\u001b[0;31m:\u001b[0m invalid syntax\n"
     ]
    }
   ],
   "source": [
    "Import JiraIssueWrangler\n",
    "\n",
    "def fetch_jira_issue():\n",
    "    issue_id = 'Map-1'\n",
    "    JiraIssueWrangler('Map-1').wrangle()\n",
    "    \n"
   ]
  },
  {
   "cell_type": "code",
   "execution_count": null,
   "metadata": {},
   "outputs": [],
   "source": []
  }
 ],
 "metadata": {
  "kernelspec": {
   "display_name": "Python 3",
   "language": "python",
   "name": "python3"
  },
  "language_info": {
   "codemirror_mode": {
    "name": "ipython",
    "version": 3
   },
   "file_extension": ".py",
   "mimetype": "text/x-python",
   "name": "python",
   "nbconvert_exporter": "python",
   "pygments_lexer": "ipython3",
   "version": "3.7.3"
  }
 },
 "nbformat": 4,
 "nbformat_minor": 2
}
