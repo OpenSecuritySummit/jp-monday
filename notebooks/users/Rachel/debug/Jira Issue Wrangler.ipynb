{
 "cells": [
  {
   "cell_type": "markdown",
   "metadata": {},
   "source": [
    "# Jira Issue Wrangler\n",
    "\n",
    "Map-1 issue: https://ubuntu-policy.atlassian.net/browse/MAP-1\n",
    "\n",
    "Here is the Kanban Board to edit the data: https://ubuntu-policy.atlassian.net/secure/RapidBoard.jspa?rapidView=8&projectKey=MAP"
   ]
  },
  {
   "cell_type": "code",
   "execution_count": 16,
   "metadata": {},
   "outputs": [
    {
     "name": "stdout",
     "output_type": "stream",
     "text": [
      "Fetching related issue for MAP-1\n",
      "[{'Link Type': 'needs', 'Direction': 'Outward', 'Issue Type': 'Wardley Map', 'Id': '10087', 'Key': 'MAP-2', 'Status': 'Product', 'Summary': 'Cup'}]\n",
      "{'Assignee': None, 'Brands': [], 'Components': [], 'Created': '2019-10-13T09:37:23.223+0100', 'Creator': 'dinis.cruz', 'Description': None, 'Email': None, 'Epic Link': None, 'GDPR Article': None, 'Image Url': None, 'Issue Type': 'Wardley Map', 'Issue Links': {'MAP-1': [{'Direction': 'Inward', 'Link Type': 'is needed by', 'Issue Type': 'Wardley Map', 'Id': '10087', 'Key': 'MAP-1', 'Status': 'Product', 'Summary': 'Cup of Tea'}]}, 'ISO27001 Standard': None, 'Key': 'MAP-2', 'Labels': [], 'Latest_Information': None, 'Likelihood': None, 'Parent': None, 'Priority': 'Medium', 'Project': 'Wardley Maps', 'Slack ID': None, 'Summary': 'Cup', 'Status': 'Product', 'Rating': None, 'Reporter': 'dinis.cruz', 'Risk Owner': None, 'Updated': '2019-10-13T13:28:59.389+0100', 'Impacts': None, 'VULN Priority': None}\n",
      "[{'Link Type': 'needs', 'Direction': 'Outward', 'Issue Type': 'Wardley Map', 'Id': '10088', 'Key': 'MAP-3', 'Status': 'Product', 'Summary': 'Tea'}]\n",
      "{'Assignee': None, 'Brands': [], 'Components': [], 'Created': '2019-10-13T09:40:08.320+0100', 'Creator': 'dinis.cruz', 'Description': None, 'Email': None, 'Epic Link': None, 'GDPR Article': None, 'Image Url': None, 'Issue Type': 'Wardley Map', 'Issue Links': {'MAP-9': [{'Link Type': 'needs', 'Direction': 'Outward', 'Issue Type': 'Wardley Map', 'Id': '10094', 'Key': 'MAP-9', 'Status': 'Commodity', 'Summary': 'Farmer'}], 'MAP-1': [{'Direction': 'Inward', 'Link Type': 'is needed by', 'Issue Type': 'Wardley Map', 'Id': '10088', 'Key': 'MAP-1', 'Status': 'Product', 'Summary': 'Cup of Tea'}]}, 'ISO27001 Standard': None, 'Key': 'MAP-3', 'Labels': [], 'Latest_Information': None, 'Likelihood': None, 'Parent': None, 'Priority': 'Medium', 'Project': 'Wardley Maps', 'Slack ID': None, 'Summary': 'Tea', 'Status': 'Product', 'Rating': None, 'Reporter': 'dinis.cruz', 'Risk Owner': None, 'Updated': '2019-10-15T10:17:07.415+0100', 'Impacts': None, 'VULN Priority': None}\n",
      "[{'Link Type': 'needs', 'Direction': 'Outward', 'Issue Type': 'Wardley Map', 'Id': '10089', 'Key': 'MAP-4', 'Status': 'Commodity', 'Summary': 'Hot Water'}]\n",
      "{'Assignee': None, 'Brands': [], 'Components': [], 'Created': '2019-10-13T09:40:13.344+0100', 'Creator': 'dinis.cruz', 'Description': None, 'Email': None, 'Epic Link': None, 'GDPR Article': None, 'Image Url': None, 'Issue Type': 'Wardley Map', 'Issue Links': {'MAP-6': [{'Link Type': 'needs', 'Direction': 'Outward', 'Issue Type': 'Wardley Map', 'Id': '10091', 'Key': 'MAP-6', 'Status': 'Custom Built', 'Summary': 'Kettle'}], 'MAP-5': [{'Link Type': 'needs', 'Direction': 'Outward', 'Issue Type': 'Wardley Map', 'Id': '10092', 'Key': 'MAP-5', 'Status': 'Commodity', 'Summary': 'Water'}], 'MAP-1': [{'Direction': 'Inward', 'Link Type': 'is needed by', 'Issue Type': 'Wardley Map', 'Id': '10089', 'Key': 'MAP-1', 'Status': 'Product', 'Summary': 'Cup of Tea'}]}, 'ISO27001 Standard': None, 'Key': 'MAP-4', 'Labels': [], 'Latest_Information': None, 'Likelihood': None, 'Parent': None, 'Priority': 'Medium', 'Project': 'Wardley Maps', 'Slack ID': None, 'Summary': 'Hot Water', 'Status': 'Commodity', 'Rating': None, 'Reporter': 'dinis.cruz', 'Risk Owner': None, 'Updated': '2019-10-13T10:03:32.435+0100', 'Impacts': None, 'VULN Priority': None}\n",
      "[{'Direction': 'Inward', 'Link Type': 'is needed by', 'Issue Type': 'Wardley Map', 'Id': '10093', 'Key': 'MAP-8', 'Status': 'Genesis', 'Summary': 'Public'}]\n",
      "Issue:\n",
      "{\n",
      "  \"key\": \"MAP-1\",\n",
      "  \"summary\": \"Cup of Tea\",\n",
      "  \"status\": \"Product\",\n",
      "  \"related_issues\": [\n",
      "    {\n",
      "      \"Direction\": \"Inward\",\n",
      "      \"Link Type\": \"is needed by\",\n",
      "      \"Issue Type\": \"Wardley Map\",\n",
      "      \"Id\": \"10093\",\n",
      "      \"Key\": \"MAP-8\",\n",
      "      \"Status\": \"Genesis\",\n",
      "      \"Summary\": \"Public\"\n",
      "    }\n",
      "  ]\n",
      "}\n"
     ]
    }
   ],
   "source": [
    "import json\n",
    "\n",
    "from jira import JIRA\n",
    "from osbot_jira.api.jira_server.API_Jira import API_Jira\n",
    "\n",
    "\n",
    "class Issue():\n",
    "    \n",
    "    def __init__(self, key, summary, status, related_issues):\n",
    "        self.key = key\n",
    "        self.summary = summary\n",
    "        self.status = status\n",
    "        self.related_issues = related_issues\n",
    "\n",
    "\n",
    "class JiraIssueWrangler():\n",
    "    \n",
    "    def __init__(self, issue_id):\n",
    "        self.issue_id = issue_id\n",
    "        self.api_jira = API_Jira()\n",
    "        self.api_jira._jira = JIRA(server='https://ubuntu-policy.atlassian.net/')\n",
    "        \n",
    "    def _create_issue(self, response):\n",
    "        return Issue(\n",
    "            response['Key'],\n",
    "            response['Summary'],\n",
    "            response['Status'],\n",
    "            self._get_related_issues(response)\n",
    "        )\n",
    "    \n",
    "    def _get_related_issues(self, response):\n",
    "        print('Fetching related issue for {0}'.format(response['Key']))\n",
    "        related_issues = []\n",
    "        for key, related_issues in response['Issue Links'].items():\n",
    "            print(related_issues)\n",
    "            for related_issue in related_issues:\n",
    "                if related_issue['Link Type'] == 'needs':\n",
    "                    related_issue_response = self.api_jira.issue(key)\n",
    "                    print(related_issue_response)\n",
    "                    #related_issues.append(self._create_issue(related_issue_response))\n",
    "            \n",
    "        return related_issues\n",
    "                    \n",
    "    def wrangle(self):\n",
    "        base_issue_response = self.api_jira.issue(self.issue_id)\n",
    "        issue = self._create_issue(base_issue_response)\n",
    "        return issue\n",
    "\n",
    "\n",
    "def fetch_jira_issue(issue_id):\n",
    "    issue_wrangler = JiraIssueWrangler('Map-1')\n",
    "    issue = issue_wrangler.wrangle()\n",
    "    print('Issue:')\n",
    "    print(json.dumps(\n",
    "        issue,\n",
    "        default=lambda o: o.__dict__,\n",
    "        sort_keys=False,\n",
    "        indent=2\n",
    "    ))\n",
    "    \n",
    "    \n",
    "fetch_jira_issue('Map-1')\n"
   ]
  },
  {
   "cell_type": "code",
   "execution_count": null,
   "metadata": {},
   "outputs": [],
   "source": []
  }
 ],
 "metadata": {
  "kernelspec": {
   "display_name": "Python 3",
   "language": "python",
   "name": "python3"
  },
  "language_info": {
   "codemirror_mode": {
    "name": "ipython",
    "version": 3
   },
   "file_extension": ".py",
   "mimetype": "text/x-python",
   "name": "python",
   "nbconvert_exporter": "python",
   "pygments_lexer": "ipython3",
   "version": "3.7.3"
  }
 },
 "nbformat": 4,
 "nbformat_minor": 2
}
