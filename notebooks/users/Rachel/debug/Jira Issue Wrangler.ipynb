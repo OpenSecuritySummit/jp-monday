{
 "cells": [
  {
   "cell_type": "markdown",
   "metadata": {},
   "source": [
    "# Jira Issue Wrangler\n",
    "\n",
    "Map-1 issue: https://ubuntu-policy.atlassian.net/browse/MAP-1\n",
    "\n",
    "Here is the Kanban Board to edit the data: https://ubuntu-policy.atlassian.net/secure/RapidBoard.jspa?rapidView=8&projectKey=MAP"
   ]
  },
  {
   "cell_type": "code",
   "execution_count": 14,
   "metadata": {},
   "outputs": [
    {
     "name": "stdout",
     "output_type": "stream",
     "text": [
      "Fetching related issue for MAP-1\n",
      "[{'Link Type': 'needs', 'Direction': 'Outward', 'Issue Type': 'Wardley Map', 'Id': '10087', 'Key': 'MAP-2', 'Status': 'Product', 'Summary': 'Cup'}]\n",
      "Fetching related issue for MAP-2\n",
      "[{'Direction': 'Inward', 'Link Type': 'is needed by', 'Issue Type': 'Wardley Map', 'Id': '10087', 'Key': 'MAP-1', 'Status': 'Product', 'Summary': 'Cup of Tea'}]\n"
     ]
    },
    {
     "ename": "TypeError",
     "evalue": "'Issue' object is not subscriptable",
     "output_type": "error",
     "traceback": [
      "\u001b[0;31m---------------------------------------------------------------------------\u001b[0m",
      "\u001b[0;31mTypeError\u001b[0m                                 Traceback (most recent call last)",
      "\u001b[0;32m<ipython-input-14-11280eaab15b>\u001b[0m in \u001b[0;36m<module>\u001b[0;34m\u001b[0m\n\u001b[1;32m     59\u001b[0m \u001b[0;34m\u001b[0m\u001b[0m\n\u001b[1;32m     60\u001b[0m \u001b[0;34m\u001b[0m\u001b[0m\n\u001b[0;32m---> 61\u001b[0;31m \u001b[0mfetch_jira_issue\u001b[0m\u001b[0;34m(\u001b[0m\u001b[0;34m'Map-1'\u001b[0m\u001b[0;34m)\u001b[0m\u001b[0;34m\u001b[0m\u001b[0;34m\u001b[0m\u001b[0m\n\u001b[0m",
      "\u001b[0;32m<ipython-input-14-11280eaab15b>\u001b[0m in \u001b[0;36mfetch_jira_issue\u001b[0;34m(issue_id)\u001b[0m\n\u001b[1;32m     49\u001b[0m \u001b[0;32mdef\u001b[0m \u001b[0mfetch_jira_issue\u001b[0m\u001b[0;34m(\u001b[0m\u001b[0missue_id\u001b[0m\u001b[0;34m)\u001b[0m\u001b[0;34m:\u001b[0m\u001b[0;34m\u001b[0m\u001b[0;34m\u001b[0m\u001b[0m\n\u001b[1;32m     50\u001b[0m     \u001b[0missue_wrangler\u001b[0m \u001b[0;34m=\u001b[0m \u001b[0mJiraIssueWrangler\u001b[0m\u001b[0;34m(\u001b[0m\u001b[0;34m'Map-1'\u001b[0m\u001b[0;34m)\u001b[0m\u001b[0;34m\u001b[0m\u001b[0;34m\u001b[0m\u001b[0m\n\u001b[0;32m---> 51\u001b[0;31m     \u001b[0missue\u001b[0m \u001b[0;34m=\u001b[0m \u001b[0missue_wrangler\u001b[0m\u001b[0;34m.\u001b[0m\u001b[0mwrangle\u001b[0m\u001b[0;34m(\u001b[0m\u001b[0;34m)\u001b[0m\u001b[0;34m\u001b[0m\u001b[0;34m\u001b[0m\u001b[0m\n\u001b[0m\u001b[1;32m     52\u001b[0m     \u001b[0mprint\u001b[0m\u001b[0;34m(\u001b[0m\u001b[0;34m'Issue:'\u001b[0m\u001b[0;34m)\u001b[0m\u001b[0;34m\u001b[0m\u001b[0;34m\u001b[0m\u001b[0m\n\u001b[1;32m     53\u001b[0m     print(json.dumps(\n",
      "\u001b[0;32m<ipython-input-14-11280eaab15b>\u001b[0m in \u001b[0;36mwrangle\u001b[0;34m(self)\u001b[0m\n\u001b[1;32m     43\u001b[0m     \u001b[0;32mdef\u001b[0m \u001b[0mwrangle\u001b[0m\u001b[0;34m(\u001b[0m\u001b[0mself\u001b[0m\u001b[0;34m)\u001b[0m\u001b[0;34m:\u001b[0m\u001b[0;34m\u001b[0m\u001b[0;34m\u001b[0m\u001b[0m\n\u001b[1;32m     44\u001b[0m         \u001b[0mbase_issue_response\u001b[0m \u001b[0;34m=\u001b[0m \u001b[0mself\u001b[0m\u001b[0;34m.\u001b[0m\u001b[0mapi_jira\u001b[0m\u001b[0;34m.\u001b[0m\u001b[0missue\u001b[0m\u001b[0;34m(\u001b[0m\u001b[0mself\u001b[0m\u001b[0;34m.\u001b[0m\u001b[0missue_id\u001b[0m\u001b[0;34m)\u001b[0m\u001b[0;34m\u001b[0m\u001b[0;34m\u001b[0m\u001b[0m\n\u001b[0;32m---> 45\u001b[0;31m         \u001b[0missue\u001b[0m \u001b[0;34m=\u001b[0m \u001b[0mself\u001b[0m\u001b[0;34m.\u001b[0m\u001b[0m_create_issue\u001b[0m\u001b[0;34m(\u001b[0m\u001b[0mbase_issue_response\u001b[0m\u001b[0;34m)\u001b[0m\u001b[0;34m\u001b[0m\u001b[0;34m\u001b[0m\u001b[0m\n\u001b[0m\u001b[1;32m     46\u001b[0m         \u001b[0;32mreturn\u001b[0m \u001b[0missue\u001b[0m\u001b[0;34m\u001b[0m\u001b[0;34m\u001b[0m\u001b[0m\n\u001b[1;32m     47\u001b[0m \u001b[0;34m\u001b[0m\u001b[0m\n",
      "\u001b[0;32m<ipython-input-14-11280eaab15b>\u001b[0m in \u001b[0;36m_create_issue\u001b[0;34m(self, response)\u001b[0m\n\u001b[1;32m     26\u001b[0m             \u001b[0mresponse\u001b[0m\u001b[0;34m[\u001b[0m\u001b[0;34m'Summary'\u001b[0m\u001b[0;34m]\u001b[0m\u001b[0;34m,\u001b[0m\u001b[0;34m\u001b[0m\u001b[0;34m\u001b[0m\u001b[0m\n\u001b[1;32m     27\u001b[0m             \u001b[0mresponse\u001b[0m\u001b[0;34m[\u001b[0m\u001b[0;34m'Status'\u001b[0m\u001b[0;34m]\u001b[0m\u001b[0;34m,\u001b[0m\u001b[0;34m\u001b[0m\u001b[0;34m\u001b[0m\u001b[0m\n\u001b[0;32m---> 28\u001b[0;31m             \u001b[0mself\u001b[0m\u001b[0;34m.\u001b[0m\u001b[0m_get_related_issues\u001b[0m\u001b[0;34m(\u001b[0m\u001b[0mresponse\u001b[0m\u001b[0;34m)\u001b[0m\u001b[0;34m\u001b[0m\u001b[0;34m\u001b[0m\u001b[0m\n\u001b[0m\u001b[1;32m     29\u001b[0m         )\n\u001b[1;32m     30\u001b[0m \u001b[0;34m\u001b[0m\u001b[0m\n",
      "\u001b[0;32m<ipython-input-14-11280eaab15b>\u001b[0m in \u001b[0;36m_get_related_issues\u001b[0;34m(self, response)\u001b[0m\n\u001b[1;32m     35\u001b[0m             \u001b[0mprint\u001b[0m\u001b[0;34m(\u001b[0m\u001b[0mrelated_issues\u001b[0m\u001b[0;34m)\u001b[0m\u001b[0;34m\u001b[0m\u001b[0;34m\u001b[0m\u001b[0m\n\u001b[1;32m     36\u001b[0m             \u001b[0;32mfor\u001b[0m \u001b[0mrelated_issue\u001b[0m \u001b[0;32min\u001b[0m \u001b[0mrelated_issues\u001b[0m\u001b[0;34m:\u001b[0m\u001b[0;34m\u001b[0m\u001b[0;34m\u001b[0m\u001b[0m\n\u001b[0;32m---> 37\u001b[0;31m                 \u001b[0;32mif\u001b[0m \u001b[0mrelated_issue\u001b[0m\u001b[0;34m[\u001b[0m\u001b[0;34m'Link Type'\u001b[0m\u001b[0;34m]\u001b[0m \u001b[0;34m==\u001b[0m \u001b[0;34m'needs'\u001b[0m\u001b[0;34m:\u001b[0m\u001b[0;34m\u001b[0m\u001b[0;34m\u001b[0m\u001b[0m\n\u001b[0m\u001b[1;32m     38\u001b[0m                     \u001b[0mrelated_issue_response\u001b[0m \u001b[0;34m=\u001b[0m \u001b[0mself\u001b[0m\u001b[0;34m.\u001b[0m\u001b[0mapi_jira\u001b[0m\u001b[0;34m.\u001b[0m\u001b[0missue\u001b[0m\u001b[0;34m(\u001b[0m\u001b[0mkey\u001b[0m\u001b[0;34m)\u001b[0m\u001b[0;34m\u001b[0m\u001b[0;34m\u001b[0m\u001b[0m\n\u001b[1;32m     39\u001b[0m                     \u001b[0mrelated_issues\u001b[0m\u001b[0;34m.\u001b[0m\u001b[0mappend\u001b[0m\u001b[0;34m(\u001b[0m\u001b[0mself\u001b[0m\u001b[0;34m.\u001b[0m\u001b[0m_create_issue\u001b[0m\u001b[0;34m(\u001b[0m\u001b[0mrelated_issue_response\u001b[0m\u001b[0;34m)\u001b[0m\u001b[0;34m)\u001b[0m\u001b[0;34m\u001b[0m\u001b[0;34m\u001b[0m\u001b[0m\n",
      "\u001b[0;31mTypeError\u001b[0m: 'Issue' object is not subscriptable"
     ]
    }
   ],
   "source": [
    "import json\n",
    "\n",
    "from jira import JIRA\n",
    "from osbot_jira.api.jira_server.API_Jira import API_Jira\n",
    "\n",
    "\n",
    "class Issue():\n",
    "    \n",
    "    def __init__(self, key, summary, status, related_issues):\n",
    "        self.key = key\n",
    "        self.summary = summary\n",
    "        self.status = status\n",
    "        self.related_issues = related_issues\n",
    "\n",
    "\n",
    "class JiraIssueWrangler():\n",
    "    \n",
    "    def __init__(self, issue_id):\n",
    "        self.issue_id = issue_id\n",
    "        self.api_jira = API_Jira()\n",
    "        self.api_jira._jira = JIRA(server='https://ubuntu-policy.atlassian.net/')\n",
    "        \n",
    "    def _create_issue(self, response):\n",
    "        return Issue(\n",
    "            response['Key'],\n",
    "            response['Summary'],\n",
    "            response['Status'],\n",
    "            self._get_related_issues(response)\n",
    "        )\n",
    "    \n",
    "    def _get_related_issues(self, response):\n",
    "        print('Fetching related issue for {0}'.format(response['Key']))\n",
    "        related_issues = []\n",
    "        for key, related_issues in response['Issue Links'].items():\n",
    "            print(related_issues)\n",
    "            for related_issue in related_issues:\n",
    "                if related_issue['Link Type'] == 'needs':\n",
    "                    print('needs')\n",
    "                    related_issue_response = self.api_jira.issue(key)\n",
    "                    related_issues.append(self._create_issue(related_issue_response))\n",
    "            \n",
    "        return related_issues\n",
    "                    \n",
    "    def wrangle(self):\n",
    "        base_issue_response = self.api_jira.issue(self.issue_id)\n",
    "        issue = self._create_issue(base_issue_response)\n",
    "        return issue\n",
    "\n",
    "\n",
    "def fetch_jira_issue(issue_id):\n",
    "    issue_wrangler = JiraIssueWrangler('Map-1')\n",
    "    issue = issue_wrangler.wrangle()\n",
    "    print('Issue:')\n",
    "    print(json.dumps(\n",
    "        issue,\n",
    "        default=lambda o: o.__dict__,\n",
    "        sort_keys=False,\n",
    "        indent=2\n",
    "    ))\n",
    "    \n",
    "    \n",
    "fetch_jira_issue('Map-1')\n"
   ]
  },
  {
   "cell_type": "code",
   "execution_count": null,
   "metadata": {},
   "outputs": [],
   "source": []
  }
 ],
 "metadata": {
  "kernelspec": {
   "display_name": "Python 3",
   "language": "python",
   "name": "python3"
  },
  "language_info": {
   "codemirror_mode": {
    "name": "ipython",
    "version": 3
   },
   "file_extension": ".py",
   "mimetype": "text/x-python",
   "name": "python",
   "nbconvert_exporter": "python",
   "pygments_lexer": "ipython3",
   "version": "3.7.3"
  }
 },
 "nbformat": 4,
 "nbformat_minor": 2
}
