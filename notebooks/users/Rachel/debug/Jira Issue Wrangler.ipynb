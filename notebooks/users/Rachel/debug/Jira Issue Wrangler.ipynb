{
 "cells": [
  {
   "cell_type": "markdown",
   "metadata": {},
   "source": [
    "# Jira Issue Wrangler\n",
    "\n",
    "Map-1 issue: https://ubuntu-policy.atlassian.net/browse/MAP-1\n",
    "\n",
    "Here is the Kanban Board to edit the data: https://ubuntu-policy.atlassian.net/secure/RapidBoard.jspa?rapidView=8&projectKey=MAP"
   ]
  },
  {
   "cell_type": "code",
   "execution_count": 1,
   "metadata": {},
   "outputs": [
    {
     "name": "stdout",
     "output_type": "stream",
     "text": [
      "{\"Assignee\": null, \"Brands\": [], \"Components\": [], \"Created\": \"2019-10-13T09:28:52.131+0100\", \"Creator\": \"dinis.cruz\", \"Description\": null, \"Email\": null, \"Epic Link\": null, \"GDPR Article\": null, \"Image Url\": null, \"Issue Type\": \"Wardley Map\", \"Issue Links\": {\"MAP-2\": [{\"Link Type\": \"needs\", \"Direction\": \"Outward\", \"Issue Type\": \"Wardley Map\", \"Id\": \"10087\", \"Key\": \"MAP-2\", \"Status\": \"Product\", \"Summary\": \"Cup\"}], \"MAP-3\": [{\"Link Type\": \"needs\", \"Direction\": \"Outward\", \"Issue Type\": \"Wardley Map\", \"Id\": \"10088\", \"Key\": \"MAP-3\", \"Status\": \"Product\", \"Summary\": \"Tea\"}], \"MAP-4\": [{\"Link Type\": \"needs\", \"Direction\": \"Outward\", \"Issue Type\": \"Wardley Map\", \"Id\": \"10089\", \"Key\": \"MAP-4\", \"Status\": \"Commodity\", \"Summary\": \"Hot Water\"}], \"MAP-8\": [{\"Direction\": \"Inward\", \"Link Type\": \"is needed by\", \"Issue Type\": \"Wardley Map\", \"Id\": \"10093\", \"Key\": \"MAP-8\", \"Status\": \"Genesis\", \"Summary\": \"Public\"}]}, \"ISO27001 Standard\": null, \"Key\": \"MAP-1\", \"Labels\": [], \"Latest_Information\": null, \"Likelihood\": null, \"Parent\": null, \"Priority\": \"Medium\", \"Project\": \"Wardley Maps\", \"Slack ID\": null, \"Summary\": \"Cup of Tea\", \"Status\": \"Product\", \"Rating\": null, \"Reporter\": \"dinis.cruz\", \"Risk Owner\": null, \"Updated\": \"2019-10-13T13:25:40.510+0100\", \"Impacts\": null, \"VULN Priority\": null}\n"
     ]
    }
   ],
   "source": [
    "from JiraWrangler import JiraIssueWrangler\n",
    "\n",
    "def fetch_jira_issue(issue_id):\n",
    "    issue_wrangler = JiraIssueWrangler('Map-1')\n",
    "    issue = issue_wrangler.wrangle()\n",
    "    \n",
    "    print(issue)\n",
    "    \n",
    "fetch_jira_issue('Map-1')\n"
   ]
  },
  {
   "cell_type": "code",
   "execution_count": null,
   "metadata": {},
   "outputs": [],
   "source": []
  }
 ],
 "metadata": {
  "kernelspec": {
   "display_name": "Python 3",
   "language": "python",
   "name": "python3"
  },
  "language_info": {
   "codemirror_mode": {
    "name": "ipython",
    "version": 3
   },
   "file_extension": ".py",
   "mimetype": "text/x-python",
   "name": "python",
   "nbconvert_exporter": "python",
   "pygments_lexer": "ipython3",
   "version": "3.7.3"
  }
 },
 "nbformat": 4,
 "nbformat_minor": 2
}
