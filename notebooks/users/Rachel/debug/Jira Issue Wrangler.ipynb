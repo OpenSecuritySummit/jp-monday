{
 "cells": [
  {
   "cell_type": "markdown",
   "metadata": {},
   "source": [
    "# Jira Issue Wrangler\n",
    "\n",
    "Map-1 issue: https://ubuntu-policy.atlassian.net/browse/MAP-1\n",
    "\n",
    "Here is the Kanban Board to edit the data: https://ubuntu-policy.atlassian.net/secure/RapidBoard.jspa?rapidView=8&projectKey=MAP"
   ]
  },
  {
   "cell_type": "code",
   "execution_count": 2,
   "metadata": {},
   "outputs": [
    {
     "ename": "AttributeError",
     "evalue": "'Issue' object has no attribute 'toJSON'",
     "output_type": "error",
     "traceback": [
      "\u001b[0;31m---------------------------------------------------------------------------\u001b[0m",
      "\u001b[0;31mAttributeError\u001b[0m                            Traceback (most recent call last)",
      "\u001b[0;32m<ipython-input-2-da4d3f10490f>\u001b[0m in \u001b[0;36m<module>\u001b[0;34m\u001b[0m\n\u001b[1;32m     58\u001b[0m     \u001b[0mprint\u001b[0m\u001b[0;34m(\u001b[0m\u001b[0missue\u001b[0m\u001b[0;34m)\u001b[0m\u001b[0;34m\u001b[0m\u001b[0;34m\u001b[0m\u001b[0m\n\u001b[1;32m     59\u001b[0m \u001b[0;34m\u001b[0m\u001b[0m\n\u001b[0;32m---> 60\u001b[0;31m \u001b[0mfetch_jira_issue\u001b[0m\u001b[0;34m(\u001b[0m\u001b[0;34m'Map-1'\u001b[0m\u001b[0;34m)\u001b[0m\u001b[0;34m\u001b[0m\u001b[0;34m\u001b[0m\u001b[0m\n\u001b[0m",
      "\u001b[0;32m<ipython-input-2-da4d3f10490f>\u001b[0m in \u001b[0;36mfetch_jira_issue\u001b[0;34m(issue_id)\u001b[0m\n\u001b[1;32m     54\u001b[0m \u001b[0;32mdef\u001b[0m \u001b[0mfetch_jira_issue\u001b[0m\u001b[0;34m(\u001b[0m\u001b[0missue_id\u001b[0m\u001b[0;34m)\u001b[0m\u001b[0;34m:\u001b[0m\u001b[0;34m\u001b[0m\u001b[0;34m\u001b[0m\u001b[0m\n\u001b[1;32m     55\u001b[0m     \u001b[0missue_wrangler\u001b[0m \u001b[0;34m=\u001b[0m \u001b[0mJiraIssueWrangler\u001b[0m\u001b[0;34m(\u001b[0m\u001b[0;34m'Map-1'\u001b[0m\u001b[0;34m)\u001b[0m\u001b[0;34m\u001b[0m\u001b[0;34m\u001b[0m\u001b[0m\n\u001b[0;32m---> 56\u001b[0;31m     \u001b[0missue\u001b[0m \u001b[0;34m=\u001b[0m \u001b[0missue_wrangler\u001b[0m\u001b[0;34m.\u001b[0m\u001b[0mwrangle\u001b[0m\u001b[0;34m(\u001b[0m\u001b[0;34m)\u001b[0m\u001b[0;34m\u001b[0m\u001b[0;34m\u001b[0m\u001b[0m\n\u001b[0m\u001b[1;32m     57\u001b[0m     \u001b[0mprint\u001b[0m\u001b[0;34m(\u001b[0m\u001b[0;34m'Issue:'\u001b[0m\u001b[0;34m)\u001b[0m\u001b[0;34m\u001b[0m\u001b[0;34m\u001b[0m\u001b[0m\n\u001b[1;32m     58\u001b[0m     \u001b[0mprint\u001b[0m\u001b[0;34m(\u001b[0m\u001b[0missue\u001b[0m\u001b[0;34m)\u001b[0m\u001b[0;34m\u001b[0m\u001b[0;34m\u001b[0m\u001b[0m\n",
      "\u001b[0;32m<ipython-input-2-da4d3f10490f>\u001b[0m in \u001b[0;36mwrangle\u001b[0;34m(self)\u001b[0m\n\u001b[1;32m     49\u001b[0m         \u001b[0mbase_issue_response\u001b[0m \u001b[0;34m=\u001b[0m \u001b[0mself\u001b[0m\u001b[0;34m.\u001b[0m\u001b[0mapi_jira\u001b[0m\u001b[0;34m.\u001b[0m\u001b[0missue\u001b[0m\u001b[0;34m(\u001b[0m\u001b[0mself\u001b[0m\u001b[0;34m.\u001b[0m\u001b[0missue_id\u001b[0m\u001b[0;34m)\u001b[0m\u001b[0;34m\u001b[0m\u001b[0;34m\u001b[0m\u001b[0m\n\u001b[1;32m     50\u001b[0m         \u001b[0missue\u001b[0m \u001b[0;34m=\u001b[0m \u001b[0mself\u001b[0m\u001b[0;34m.\u001b[0m\u001b[0m_create_issue\u001b[0m\u001b[0;34m(\u001b[0m\u001b[0mbase_issue_response\u001b[0m\u001b[0;34m)\u001b[0m\u001b[0;34m\u001b[0m\u001b[0;34m\u001b[0m\u001b[0m\n\u001b[0;32m---> 51\u001b[0;31m         \u001b[0;32mreturn\u001b[0m \u001b[0missue\u001b[0m\u001b[0;34m.\u001b[0m\u001b[0mtoJSON\u001b[0m\u001b[0;34m(\u001b[0m\u001b[0;34m)\u001b[0m\u001b[0;34m;\u001b[0m\u001b[0;34m\u001b[0m\u001b[0;34m\u001b[0m\u001b[0m\n\u001b[0m\u001b[1;32m     52\u001b[0m \u001b[0;34m\u001b[0m\u001b[0m\n\u001b[1;32m     53\u001b[0m \u001b[0;34m\u001b[0m\u001b[0m\n",
      "\u001b[0;31mAttributeError\u001b[0m: 'Issue' object has no attribute 'toJSON'"
     ]
    }
   ],
   "source": [
    "import json\n",
    "\n",
    "from jira import JIRA\n",
    "from osbot_jira.api.jira_server.API_Jira import API_Jira\n",
    "\n",
    "\n",
    "class Issue():\n",
    "    \n",
    "    def __init__(self, key, summary, status, related_issues):\n",
    "        self.key = key\n",
    "        self.summary = summary\n",
    "        self.status = status\n",
    "        self.related_issues = related_issues\n",
    "        \n",
    "    def toJson(self):\n",
    "\n",
    "        return json.dumps(\n",
    "            self,\n",
    "            default=lambda o: o.__dict__,\n",
    "            sort_keys=False,\n",
    "            indent=2\n",
    "        )\n",
    "\n",
    "\n",
    "class JiraIssueWrangler():\n",
    "    \n",
    "    def __init__(self, issue_id):\n",
    "        self.issue_id = issue_id\n",
    "        self.api_jira = API_Jira()\n",
    "        self.api_jira._jira = JIRA(server='https://ubuntu-policy.atlassian.net/')\n",
    "        \n",
    "    def _create_issue(self, response):\n",
    "        return Issue(\n",
    "            response['Key'],\n",
    "            response['Summary'],\n",
    "            response['Status'],\n",
    "            []\n",
    "        )\n",
    "    \n",
    "    def _get_related_issues(self, response):\n",
    "        related_issues = []\n",
    "        for key, related_issue in response['Issue Links'].items():\n",
    "            related_issue_response = self.api_jira.issue(key)\n",
    "            related_issues.append(self._create_issue(related_issue_response))\n",
    "            \n",
    "        return related_issues\n",
    "                    \n",
    "    def wrangle(self):\n",
    "        base_issue_response = self.api_jira.issue(self.issue_id)\n",
    "        issue = self._create_issue(base_issue_response)\n",
    "        return issue.toJSON();\n",
    "\n",
    "\n",
    "def fetch_jira_issue(issue_id):\n",
    "    issue_wrangler = JiraIssueWrangler('Map-1')\n",
    "    issue = JiraIssueWrangl\n",
    "    print('Issue:')\n",
    "    print(issue)\n",
    "    \n",
    "fetch_jira_issue('Map-1')\n"
   ]
  },
  {
   "cell_type": "code",
   "execution_count": null,
   "metadata": {},
   "outputs": [],
   "source": []
  }
 ],
 "metadata": {
  "kernelspec": {
   "display_name": "Python 3",
   "language": "python",
   "name": "python3"
  },
  "language_info": {
   "codemirror_mode": {
    "name": "ipython",
    "version": 3
   },
   "file_extension": ".py",
   "mimetype": "text/x-python",
   "name": "python",
   "nbconvert_exporter": "python",
   "pygments_lexer": "ipython3",
   "version": "3.7.3"
  }
 },
 "nbformat": 4,
 "nbformat_minor": 2
}
