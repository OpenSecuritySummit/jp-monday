{
 "cells": [
  {
   "cell_type": "markdown",
   "metadata": {},
   "source": [
    "### Sending Slack "
   ]
  },
  {
   "cell_type": "code",
   "execution_count": 4,
   "metadata": {},
   "outputs": [],
   "source": [
    "from osbot_aws.apis.Lambda import Lambda\n",
    "aws_lambda = Lambda('pbx_gs_python_utils_lambdas_utils_slack_message')\n",
    "\n",
    "channel = 'DJ8UA0RFT' # oss_bot\n",
    "payload = {\n",
    "    'text': 'this is a text',\n",
    "    'attachments': [{'text': 'an attach', 'color':'good'}],\n",
    "    'channel': channel\n",
    "}\n",
    "aws_lambda.invoke(payload)\n"
   ]
  },
  {
   "cell_type": "markdown",
   "metadata": {},
   "source": [
    "### \n",
    "![image](https://user-images.githubusercontent.com/656739/67507891-c7865c00-f687-11e9-9c08-9ce08d287cc6.png)"
   ]
  }
 ],
 "metadata": {
  "kernelspec": {
   "display_name": "Python 3",
   "language": "python",
   "name": "python3"
  },
  "language_info": {
   "codemirror_mode": {
    "name": "ipython",
    "version": 3
   },
   "file_extension": ".py",
   "mimetype": "text/x-python",
   "name": "python",
   "nbconvert_exporter": "python",
   "pygments_lexer": "ipython3",
   "version": "3.7.3"
  }
 },
 "nbformat": 4,
 "nbformat_minor": 2
}
