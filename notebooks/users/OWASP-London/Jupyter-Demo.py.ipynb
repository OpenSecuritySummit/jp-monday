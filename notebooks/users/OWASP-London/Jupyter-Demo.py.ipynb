{
 "cells": [
  {
   "cell_type": "markdown",
   "metadata": {},
   "source": [
    "### Sending Slack message from Jupyter"
   ]
  },
  {
   "cell_type": "code",
   "execution_count": 6,
   "metadata": {},
   "outputs": [],
   "source": [
    "from osbot_aws.apis.Lambda import Lambda\n",
    "aws_lambda = Lambda('pbx_gs_python_utils_lambdas_utils_slack_message')\n",
    "\n",
    "channel = 'DJ8UA0RFT' # oss_bot\n",
    "payload = {\n",
    "    'text': 'this is a test from Jupyter',\n",
    "    'attachments': [{'text': 'we can add attach too', 'color':'good'}],\n",
    "    'channel': channel\n",
    "}\n",
    "aws_lambda.invoke(payload)\n"
   ]
  },
  {
   "cell_type": "markdown",
   "metadata": {},
   "source": [
    "executing the code above will result in this notification\n",
    "\n",
    "![image](https://user-images.githubusercontent.com/656739/67508007-0a483400-f688-11e9-8291-cc0ae57f59c2.png)\n",
    "\n",
    "and this message in Slack:\n",
    "\n",
    "![image](https://user-images.githubusercontent.com/656739/67508056-28ae2f80-f688-11e9-83f7-e3b02610864f.png)\n"
   ]
  },
  {
   "cell_type": "code",
   "execution_count": null,
   "metadata": {},
   "outputs": [],
   "source": []
  }
 ],
 "metadata": {
  "kernelspec": {
   "display_name": "Python 3",
   "language": "python",
   "name": "python3"
  },
  "language_info": {
   "codemirror_mode": {
    "name": "ipython",
    "version": 3
   },
   "file_extension": ".py",
   "mimetype": "text/x-python",
   "name": "python",
   "nbconvert_exporter": "python",
   "pygments_lexer": "ipython3",
   "version": "3.7.3"
  }
 },
 "nbformat": 4,
 "nbformat_minor": 2
}
